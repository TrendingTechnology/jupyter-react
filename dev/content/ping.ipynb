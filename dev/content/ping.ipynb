{
 "cells": [
  {
   "cell_type": "code",
   "execution_count": null,
   "metadata": {},
   "outputs": [
    {
     "name": "stdout",
     "output_type": "stream",
     "text": [
      "hello world\n",
      "0\n",
      "1\n",
      "2\n"
     ]
    },
    {
     "name": "stderr",
     "output_type": "stream",
     "text": [
      "output to stderr\n"
     ]
    },
    {
     "name": "stdout",
     "output_type": "stream",
     "text": [
      "some more stdout text\n"
     ]
    }
   ],
   "source": [
    "import sys\n",
    "sys.stdout.write('hello world\\n')\n",
    "sys.stdout.flush()\n",
    "for i in range(3):\n",
    "    sys.stdout.write('%s\\n' % i)\n",
    "    sys.stdout.flush()\n",
    "sys.stderr.write('output to stderr\\n')\n",
    "sys.stderr.flush()\n",
    "sys.stdout.write('some more stdout text\\n')\n",
    "sys.stdout.flush()"
   ]
  },
  {
   "cell_type": "markdown",
   "metadata": {},
   "source": [
    "# Markdown Cell\n",
    "\n",
    "$ e^{ \\pm i\\theta } = \\cos \\theta \\pm i\\sin \\theta + \\beta $\n",
    "\n",
    "*It* **really** is!"
   ]
  },
  {
   "cell_type": "code",
   "execution_count": null,
   "metadata": {},
   "outputs": [
    {
     "ename": "SyntaxError",
     "evalue": "invalid syntax (<ipython-input-2-6c5185427360>, line 1)",
     "output_type": "error",
     "traceback": [
      "\u001b[0;36m  File \u001b[0;32m\"<ipython-input-2-6c5185427360>\"\u001b[0;36m, line \u001b[0;32m1\u001b[0m\n\u001b[0;31m    this is a syntax error\u001b[0m\n\u001b[0m                   ^\u001b[0m\n\u001b[0;31mSyntaxError\u001b[0m\u001b[0;31m:\u001b[0m invalid syntax\n"
     ]
    }
   ],
   "source": [
    "this is a syntax error"
   ]
  },
  {
   "cell_type": "code",
   "execution_count": null,
   "metadata": {},
   "outputs": [],
   "source": [
    "print('test')"
   ]
  },
  {
   "cell_type": "code",
   "execution_count": null,
   "metadata": {},
   "outputs": [
    {
     "data": {
      "text/latex": [
       "The mass-energy equivalence is described by the famous equation\n",
       " \n",
       "$$E=mc^2$$\n",
       " \n",
       "discovered in 1905 by Albert Einstein. \n",
       "In natural units ($c$ = 1), the formula expresses the identity\n",
       " \n",
       "\\begin{equation}\n",
       "E=m\n",
       "\\end{equation}"
      ],
      "text/plain": [
       "<IPython.core.display.Latex object>"
      ]
     },
     "execution_count": 3,
     "metadata": {},
     "output_type": "execute_result"
    }
   ],
   "source": [
    "from IPython.display import Latex\n",
    "Latex('''The mass-energy equivalence is described by the famous equation\n",
    " \n",
    "$$E=mc^2$$\n",
    " \n",
    "discovered in 1905 by Albert Einstein. \n",
    "In natural units ($c$ = 1), the formula expresses the identity\n",
    " \n",
    "\\\\begin{equation}\n",
    "E=m\n",
    "\\\\end{equation}''')"
   ]
  },
  {
   "cell_type": "code",
   "execution_count": null,
   "metadata": {},
   "outputs": [
    {
     "name": "stdout",
     "output_type": "stream",
     "text": [
      "Requirement already satisfied: numpy in /Users/echarles/datalayer/opt/miniconda3/envs/datalayer/lib/python3.8/site-packages (1.21.2)\n",
      "Requirement already satisfied: ipywidgets in /Users/echarles/datalayer/opt/miniconda3/envs/datalayer/lib/python3.8/site-packages (8.0.0a6)\n",
      "Requirement already satisfied: bqplot in /Users/echarles/datalayer/opt/miniconda3/envs/datalayer/lib/python3.8/site-packages (0.12.31)\n",
      "Requirement already satisfied: plotly in /Users/echarles/datalayer/opt/miniconda3/envs/datalayer/lib/python3.8/site-packages (5.3.1)\n",
      "Requirement already satisfied: ipympl in /Users/echarles/datalayer/opt/miniconda3/envs/datalayer/lib/python3.8/site-packages (0.8.0)\n",
      "Requirement already satisfied: ipyleaflet in /Users/echarles/datalayer/opt/miniconda3/envs/datalayer/lib/python3.8/site-packages (0.3.0)\n",
      "Requirement already satisfied: ipycytoscape in /Users/echarles/datalayer/opt/miniconda3/envs/datalayer/lib/python3.8/site-packages (1.2.2)\n",
      "Requirement already satisfied: ipykernel>=4.5.1 in /Users/echarles/datalayer/opt/miniconda3/envs/datalayer/lib/python3.8/site-packages (from ipywidgets) (6.4.1)\n",
      "Requirement already satisfied: widgetsnbextension~=4.0a0 in /Users/echarles/datalayer/opt/miniconda3/envs/datalayer/lib/python3.8/site-packages (from ipywidgets) (4.0.0a4)\n",
      "Requirement already satisfied: jupyterlab-widgets~=2.0a0 in /Users/echarles/datalayer/opt/miniconda3/envs/datalayer/lib/python3.8/site-packages (from ipywidgets) (2.0.0a3)\n",
      "Requirement already satisfied: ipython>=6.1.0 in /Users/echarles/datalayer/opt/miniconda3/envs/datalayer/lib/python3.8/site-packages (from ipywidgets) (7.28.0)\n",
      "Requirement already satisfied: nbformat>=4.2.0 in /Users/echarles/datalayer/opt/miniconda3/envs/datalayer/lib/python3.8/site-packages (from ipywidgets) (5.1.3)\n",
      "Requirement already satisfied: traitlets>=4.3.1 in /Users/echarles/datalayer/opt/miniconda3/envs/datalayer/lib/python3.8/site-packages (from ipywidgets) (5.1.0)\n",
      "Requirement already satisfied: pandas<2.0.0,>=1.0.0 in /Users/echarles/datalayer/opt/miniconda3/envs/datalayer/lib/python3.8/site-packages (from bqplot) (1.3.3)\n",
      "Requirement already satisfied: traittypes>=0.0.6 in /Users/echarles/datalayer/opt/miniconda3/envs/datalayer/lib/python3.8/site-packages (from bqplot) (0.2.1)\n",
      "Requirement already satisfied: six in /Users/echarles/datalayer/opt/miniconda3/envs/datalayer/lib/python3.8/site-packages (from plotly) (1.16.0)\n",
      "Requirement already satisfied: tenacity>=6.2.0 in /Users/echarles/datalayer/opt/miniconda3/envs/datalayer/lib/python3.8/site-packages (from plotly) (8.0.1)\n",
      "Requirement already satisfied: matplotlib>=2.0.0 in /Users/echarles/datalayer/opt/miniconda3/envs/datalayer/lib/python3.8/site-packages (from ipympl) (3.5.0rc1)\n",
      "Requirement already satisfied: spectate>=1.0.0 in /Users/echarles/datalayer/opt/miniconda3/envs/datalayer/lib/python3.8/site-packages (from ipycytoscape) (1.0.1)\n",
      "Requirement already satisfied: networkx in /Users/echarles/datalayer/opt/miniconda3/envs/datalayer/lib/python3.8/site-packages (from ipycytoscape) (2.6.3)\n",
      "Requirement already satisfied: jupyter-client<8.0 in /Users/echarles/datalayer/opt/miniconda3/envs/datalayer/lib/python3.8/site-packages (from ipykernel>=4.5.1->ipywidgets) (7.0.5)\n",
      "Requirement already satisfied: appnope in /Users/echarles/datalayer/opt/miniconda3/envs/datalayer/lib/python3.8/site-packages (from ipykernel>=4.5.1->ipywidgets) (0.1.2)\n",
      "Requirement already satisfied: debugpy<2.0,>=1.0.0 in /Users/echarles/datalayer/opt/miniconda3/envs/datalayer/lib/python3.8/site-packages (from ipykernel>=4.5.1->ipywidgets) (1.4.3)\n",
      "Requirement already satisfied: tornado<7.0,>=4.2 in /Users/echarles/datalayer/opt/miniconda3/envs/datalayer/lib/python3.8/site-packages (from ipykernel>=4.5.1->ipywidgets) (6.1)\n",
      "Requirement already satisfied: matplotlib-inline<0.2.0,>=0.1.0 in /Users/echarles/datalayer/opt/miniconda3/envs/datalayer/lib/python3.8/site-packages (from ipykernel>=4.5.1->ipywidgets) (0.1.3)\n",
      "Requirement already satisfied: ipython-genutils in /Users/echarles/datalayer/opt/miniconda3/envs/datalayer/lib/python3.8/site-packages (from ipykernel>=4.5.1->ipywidgets) (0.2.0)\n",
      "Requirement already satisfied: prompt-toolkit!=3.0.0,!=3.0.1,<3.1.0,>=2.0.0 in /Users/echarles/datalayer/opt/miniconda3/envs/datalayer/lib/python3.8/site-packages (from ipython>=6.1.0->ipywidgets) (3.0.20)\n",
      "Requirement already satisfied: setuptools>=18.5 in /Users/echarles/datalayer/opt/miniconda3/envs/datalayer/lib/python3.8/site-packages (from ipython>=6.1.0->ipywidgets) (58.0.4)\n",
      "Requirement already satisfied: decorator in /Users/echarles/datalayer/opt/miniconda3/envs/datalayer/lib/python3.8/site-packages (from ipython>=6.1.0->ipywidgets) (5.1.0)\n",
      "Requirement already satisfied: pexpect>4.3 in /Users/echarles/datalayer/opt/miniconda3/envs/datalayer/lib/python3.8/site-packages (from ipython>=6.1.0->ipywidgets) (4.8.0)\n",
      "Requirement already satisfied: pygments in /Users/echarles/datalayer/opt/miniconda3/envs/datalayer/lib/python3.8/site-packages (from ipython>=6.1.0->ipywidgets) (2.10.0)\n",
      "Requirement already satisfied: backcall in /Users/echarles/datalayer/opt/miniconda3/envs/datalayer/lib/python3.8/site-packages (from ipython>=6.1.0->ipywidgets) (0.2.0)\n",
      "Requirement already satisfied: pickleshare in /Users/echarles/datalayer/opt/miniconda3/envs/datalayer/lib/python3.8/site-packages (from ipython>=6.1.0->ipywidgets) (0.7.5)\n",
      "Requirement already satisfied: jedi>=0.16 in /Users/echarles/datalayer/opt/miniconda3/envs/datalayer/lib/python3.8/site-packages (from ipython>=6.1.0->ipywidgets) (0.18.0)\n",
      "Requirement already satisfied: parso<0.9.0,>=0.8.0 in /Users/echarles/datalayer/opt/miniconda3/envs/datalayer/lib/python3.8/site-packages (from jedi>=0.16->ipython>=6.1.0->ipywidgets) (0.8.2)\n",
      "Requirement already satisfied: python-dateutil>=2.1 in /Users/echarles/datalayer/opt/miniconda3/envs/datalayer/lib/python3.8/site-packages (from jupyter-client<8.0->ipykernel>=4.5.1->ipywidgets) (2.8.2)\n",
      "Requirement already satisfied: jupyter-core>=4.6.0 in /Users/echarles/datalayer/opt/miniconda3/envs/datalayer/lib/python3.8/site-packages (from jupyter-client<8.0->ipykernel>=4.5.1->ipywidgets) (4.8.1)\n",
      "Requirement already satisfied: entrypoints in /Users/echarles/datalayer/opt/miniconda3/envs/datalayer/lib/python3.8/site-packages (from jupyter-client<8.0->ipykernel>=4.5.1->ipywidgets) (0.3)\n",
      "Requirement already satisfied: nest-asyncio>=1.5 in /Users/echarles/datalayer/opt/miniconda3/envs/datalayer/lib/python3.8/site-packages (from jupyter-client<8.0->ipykernel>=4.5.1->ipywidgets) (1.5.1)\n",
      "Requirement already satisfied: pyzmq>=13 in /Users/echarles/datalayer/opt/miniconda3/envs/datalayer/lib/python3.8/site-packages (from jupyter-client<8.0->ipykernel>=4.5.1->ipywidgets) (22.3.0)\n",
      "Requirement already satisfied: setuptools-scm>=4 in /Users/echarles/datalayer/opt/miniconda3/envs/datalayer/lib/python3.8/site-packages (from matplotlib>=2.0.0->ipympl) (6.3.2)\n",
      "Requirement already satisfied: pillow>=6.2.0 in /Users/echarles/datalayer/opt/miniconda3/envs/datalayer/lib/python3.8/site-packages (from matplotlib>=2.0.0->ipympl) (8.3.2)\n",
      "Requirement already satisfied: fonttools>=4.22.0 in /Users/echarles/datalayer/opt/miniconda3/envs/datalayer/lib/python3.8/site-packages (from matplotlib>=2.0.0->ipympl) (4.27.1)\n",
      "Requirement already satisfied: pyparsing>=2.2.1 in /Users/echarles/datalayer/opt/miniconda3/envs/datalayer/lib/python3.8/site-packages (from matplotlib>=2.0.0->ipympl) (2.4.7)\n",
      "Requirement already satisfied: cycler>=0.10 in /Users/echarles/datalayer/opt/miniconda3/envs/datalayer/lib/python3.8/site-packages (from matplotlib>=2.0.0->ipympl) (0.10.0)\n",
      "Requirement already satisfied: kiwisolver>=1.0.1 in /Users/echarles/datalayer/opt/miniconda3/envs/datalayer/lib/python3.8/site-packages (from matplotlib>=2.0.0->ipympl) (1.3.2)\n",
      "Requirement already satisfied: packaging>=20.0 in /Users/echarles/datalayer/opt/miniconda3/envs/datalayer/lib/python3.8/site-packages (from matplotlib>=2.0.0->ipympl) (21.0)\n",
      "Requirement already satisfied: jsonschema!=2.5.0,>=2.4 in /Users/echarles/datalayer/opt/miniconda3/envs/datalayer/lib/python3.8/site-packages (from nbformat>=4.2.0->ipywidgets) (4.0.1)\n",
      "Requirement already satisfied: attrs>=17.4.0 in /Users/echarles/datalayer/opt/miniconda3/envs/datalayer/lib/python3.8/site-packages (from jsonschema!=2.5.0,>=2.4->nbformat>=4.2.0->ipywidgets) (21.2.0)\n",
      "Requirement already satisfied: pyrsistent!=0.17.0,!=0.17.1,!=0.17.2,>=0.14.0 in /Users/echarles/datalayer/opt/miniconda3/envs/datalayer/lib/python3.8/site-packages (from jsonschema!=2.5.0,>=2.4->nbformat>=4.2.0->ipywidgets) (0.18.0)\n",
      "Requirement already satisfied: pytz>=2017.3 in /Users/echarles/datalayer/opt/miniconda3/envs/datalayer/lib/python3.8/site-packages (from pandas<2.0.0,>=1.0.0->bqplot) (2021.3)\n",
      "Requirement already satisfied: ptyprocess>=0.5 in /Users/echarles/datalayer/opt/miniconda3/envs/datalayer/lib/python3.8/site-packages (from pexpect>4.3->ipython>=6.1.0->ipywidgets) (0.7.0)\n",
      "Requirement already satisfied: wcwidth in /Users/echarles/datalayer/opt/miniconda3/envs/datalayer/lib/python3.8/site-packages (from prompt-toolkit!=3.0.0,!=3.0.1,<3.1.0,>=2.0.0->ipython>=6.1.0->ipywidgets) (0.2.5)\n",
      "Requirement already satisfied: tomli>=1.0.0 in /Users/echarles/datalayer/opt/miniconda3/envs/datalayer/lib/python3.8/site-packages (from setuptools-scm>=4->matplotlib>=2.0.0->ipympl) (1.2.1)\n"
     ]
    }
   ],
   "source": [
    "!pip install numpy ipywidgets bqplot plotly ipympl ipyleaflet ipycytoscape"
   ]
  },
  {
   "cell_type": "code",
   "execution_count": null,
   "metadata": {},
   "outputs": [
    {
     "data": {
      "application/vnd.jupyter.widget-view+json": {
       "model_id": "2c283599f8a642078bd749961e5fb652",
       "version_major": 2,
       "version_minor": 0
      },
      "text/plain": [
       "IntSlider(value=0)"
      ]
     },
     "metadata": {},
     "output_type": "display_data"
    },
    {
     "data": {
      "application/vnd.jupyter.widget-view+json": {
       "model_id": "a099c4e4870c47f4996d0fa4759e13b8",
       "version_major": 2,
       "version_minor": 0
      },
      "text/plain": [
       "IntText(value=0)"
      ]
     },
     "metadata": {},
     "output_type": "display_data"
    }
   ],
   "source": [
    "from IPython.display import display\n",
    "import ipywidgets as w\n",
    "# s = w.IntSlider(0, 10)£\n",
    "# s\n",
    "a = w.IntSlider()\n",
    "b = w.IntText()\n",
    "w.jslink((a, 'value'), (b, 'value'))\n",
    "display(a, b)"
   ]
  },
  {
   "cell_type": "code",
   "execution_count": null,
   "metadata": {},
   "outputs": [
    {
     "data": {
      "application/vnd.plotly.v1+json": {
       "config": {
        "plotlyServerURL": "https://plot.ly"
       },
       "data": [
        {
         "alignmentgroup": "True",
         "bingroup": "x",
         "histfunc": "sum",
         "hovertemplate": "sex=Female<br>total_bill=%{x}<br>sum of tip=%{y}<extra></extra>",
         "legendgroup": "Female",
         "marker": {
          "color": "#636efa",
          "pattern": {
           "shape": ""
          }
         },
         "name": "Female",
         "offsetgroup": "Female",
         "orientation": "v",
         "showlegend": true,
         "type": "histogram",
         "x": [
          16.99,
          24.59,
          35.26,
          14.83,
          10.33,
          16.97,
          20.29,
          15.77,
          19.65,
          15.06,
          20.69,
          16.93,
          10.29,
          34.81,
          26.41,
          16.45,
          3.07,
          17.07,
          26.86,
          25.28,
          14.73,
          10.07,
          34.83,
          5.75,
          16.32,
          22.75,
          11.35,
          15.38,
          44.3,
          22.42,
          20.92,
          14.31,
          7.25,
          25.71,
          17.31,
          10.65,
          12.43,
          24.08,
          13.42,
          12.48,
          29.8,
          14.52,
          11.38,
          20.27,
          11.17,
          12.26,
          18.26,
          8.51,
          10.33,
          14.15,
          13.16,
          17.47,
          27.05,
          16.43,
          8.35,
          18.64,
          11.87,
          29.85,
          25,
          13.39,
          16.21,
          17.51,
          10.59,
          10.63,
          9.6,
          20.9,
          18.15,
          19.81,
          43.11,
          13,
          12.74,
          13,
          16.4,
          16.47,
          12.76,
          13.27,
          28.17,
          12.9,
          30.14,
          13.42,
          15.98,
          16.27,
          10.09,
          22.12,
          35.83,
          27.18,
          18.78
         ],
         "xaxis": "x",
         "y": [
          1.01,
          3.61,
          5,
          3.02,
          1.67,
          3.5,
          2.75,
          2.23,
          3,
          3,
          2.45,
          3.07,
          2.6,
          5.2,
          1.5,
          2.47,
          1,
          3,
          3.14,
          5,
          2.2,
          1.83,
          5.17,
          1,
          4.3,
          3.25,
          2.5,
          3,
          2.5,
          3.48,
          4.08,
          4,
          1,
          4,
          3.5,
          1.5,
          1.8,
          2.92,
          1.68,
          2.52,
          4.2,
          2,
          2,
          2.83,
          1.5,
          2,
          3.25,
          1.25,
          2,
          2,
          2.75,
          3.5,
          5,
          2.3,
          1.5,
          1.36,
          1.63,
          5.14,
          3.75,
          2.61,
          2,
          3,
          1.61,
          2,
          4,
          3.5,
          3.5,
          4.19,
          5,
          2,
          2.01,
          2,
          2.5,
          3.23,
          2.23,
          2.5,
          6.5,
          1.1,
          3.09,
          3.48,
          3,
          2.5,
          2,
          2.88,
          4.67,
          2,
          3
         ],
         "yaxis": "y"
        },
        {
         "alignmentgroup": "True",
         "boxpoints": "all",
         "customdata": [
          [
           "Female",
           "No",
           "Sun",
           "Dinner",
           2
          ],
          [
           "Female",
           "No",
           "Sun",
           "Dinner",
           4
          ],
          [
           "Female",
           "No",
           "Sun",
           "Dinner",
           4
          ],
          [
           "Female",
           "No",
           "Sun",
           "Dinner",
           2
          ],
          [
           "Female",
           "No",
           "Sun",
           "Dinner",
           3
          ],
          [
           "Female",
           "No",
           "Sun",
           "Dinner",
           3
          ],
          [
           "Female",
           "No",
           "Sat",
           "Dinner",
           2
          ],
          [
           "Female",
           "No",
           "Sat",
           "Dinner",
           2
          ],
          [
           "Female",
           "No",
           "Sat",
           "Dinner",
           2
          ],
          [
           "Female",
           "No",
           "Sat",
           "Dinner",
           2
          ],
          [
           "Female",
           "No",
           "Sat",
           "Dinner",
           4
          ],
          [
           "Female",
           "No",
           "Sat",
           "Dinner",
           3
          ],
          [
           "Female",
           "No",
           "Sun",
           "Dinner",
           2
          ],
          [
           "Female",
           "No",
           "Sun",
           "Dinner",
           4
          ],
          [
           "Female",
           "No",
           "Sat",
           "Dinner",
           2
          ],
          [
           "Female",
           "No",
           "Sat",
           "Dinner",
           2
          ],
          [
           "Female",
           "Yes",
           "Sat",
           "Dinner",
           1
          ],
          [
           "Female",
           "No",
           "Sat",
           "Dinner",
           3
          ],
          [
           "Female",
           "Yes",
           "Sat",
           "Dinner",
           2
          ],
          [
           "Female",
           "Yes",
           "Sat",
           "Dinner",
           2
          ],
          [
           "Female",
           "No",
           "Sat",
           "Dinner",
           2
          ],
          [
           "Female",
           "No",
           "Thur",
           "Lunch",
           1
          ],
          [
           "Female",
           "No",
           "Thur",
           "Lunch",
           4
          ],
          [
           "Female",
           "Yes",
           "Fri",
           "Dinner",
           2
          ],
          [
           "Female",
           "Yes",
           "Fri",
           "Dinner",
           2
          ],
          [
           "Female",
           "No",
           "Fri",
           "Dinner",
           2
          ],
          [
           "Female",
           "Yes",
           "Fri",
           "Dinner",
           2
          ],
          [
           "Female",
           "Yes",
           "Fri",
           "Dinner",
           2
          ],
          [
           "Female",
           "Yes",
           "Sat",
           "Dinner",
           3
          ],
          [
           "Female",
           "Yes",
           "Sat",
           "Dinner",
           2
          ],
          [
           "Female",
           "No",
           "Sat",
           "Dinner",
           2
          ],
          [
           "Female",
           "Yes",
           "Sat",
           "Dinner",
           2
          ],
          [
           "Female",
           "No",
           "Sat",
           "Dinner",
           1
          ],
          [
           "Female",
           "No",
           "Sun",
           "Dinner",
           3
          ],
          [
           "Female",
           "No",
           "Sun",
           "Dinner",
           2
          ],
          [
           "Female",
           "No",
           "Thur",
           "Lunch",
           2
          ],
          [
           "Female",
           "No",
           "Thur",
           "Lunch",
           2
          ],
          [
           "Female",
           "No",
           "Thur",
           "Lunch",
           4
          ],
          [
           "Female",
           "No",
           "Thur",
           "Lunch",
           2
          ],
          [
           "Female",
           "No",
           "Thur",
           "Lunch",
           2
          ],
          [
           "Female",
           "No",
           "Thur",
           "Lunch",
           6
          ],
          [
           "Female",
           "No",
           "Thur",
           "Lunch",
           2
          ],
          [
           "Female",
           "No",
           "Thur",
           "Lunch",
           2
          ],
          [
           "Female",
           "No",
           "Thur",
           "Lunch",
           2
          ],
          [
           "Female",
           "No",
           "Thur",
           "Lunch",
           2
          ],
          [
           "Female",
           "No",
           "Thur",
           "Lunch",
           2
          ],
          [
           "Female",
           "No",
           "Thur",
           "Lunch",
           2
          ],
          [
           "Female",
           "No",
           "Thur",
           "Lunch",
           2
          ],
          [
           "Female",
           "No",
           "Thur",
           "Lunch",
           2
          ],
          [
           "Female",
           "No",
           "Thur",
           "Lunch",
           2
          ],
          [
           "Female",
           "No",
           "Thur",
           "Lunch",
           2
          ],
          [
           "Female",
           "No",
           "Thur",
           "Lunch",
           2
          ],
          [
           "Female",
           "No",
           "Thur",
           "Lunch",
           6
          ],
          [
           "Female",
           "No",
           "Thur",
           "Lunch",
           2
          ],
          [
           "Female",
           "No",
           "Thur",
           "Lunch",
           2
          ],
          [
           "Female",
           "No",
           "Thur",
           "Lunch",
           3
          ],
          [
           "Female",
           "No",
           "Thur",
           "Lunch",
           2
          ],
          [
           "Female",
           "No",
           "Sun",
           "Dinner",
           5
          ],
          [
           "Female",
           "No",
           "Sun",
           "Dinner",
           4
          ],
          [
           "Female",
           "No",
           "Sun",
           "Dinner",
           2
          ],
          [
           "Female",
           "No",
           "Sun",
           "Dinner",
           3
          ],
          [
           "Female",
           "Yes",
           "Sun",
           "Dinner",
           2
          ],
          [
           "Female",
           "Yes",
           "Sat",
           "Dinner",
           2
          ],
          [
           "Female",
           "Yes",
           "Sat",
           "Dinner",
           2
          ],
          [
           "Female",
           "Yes",
           "Sun",
           "Dinner",
           2
          ],
          [
           "Female",
           "Yes",
           "Sun",
           "Dinner",
           3
          ],
          [
           "Female",
           "Yes",
           "Sun",
           "Dinner",
           3
          ],
          [
           "Female",
           "Yes",
           "Thur",
           "Lunch",
           2
          ],
          [
           "Female",
           "Yes",
           "Thur",
           "Lunch",
           4
          ],
          [
           "Female",
           "Yes",
           "Thur",
           "Lunch",
           2
          ],
          [
           "Female",
           "Yes",
           "Thur",
           "Lunch",
           2
          ],
          [
           "Female",
           "Yes",
           "Thur",
           "Lunch",
           2
          ],
          [
           "Female",
           "Yes",
           "Thur",
           "Lunch",
           2
          ],
          [
           "Female",
           "Yes",
           "Thur",
           "Lunch",
           3
          ],
          [
           "Female",
           "Yes",
           "Sat",
           "Dinner",
           2
          ],
          [
           "Female",
           "Yes",
           "Sat",
           "Dinner",
           2
          ],
          [
           "Female",
           "Yes",
           "Sat",
           "Dinner",
           3
          ],
          [
           "Female",
           "Yes",
           "Sat",
           "Dinner",
           2
          ],
          [
           "Female",
           "Yes",
           "Sat",
           "Dinner",
           4
          ],
          [
           "Female",
           "Yes",
           "Fri",
           "Lunch",
           2
          ],
          [
           "Female",
           "No",
           "Fri",
           "Lunch",
           3
          ],
          [
           "Female",
           "Yes",
           "Fri",
           "Lunch",
           2
          ],
          [
           "Female",
           "Yes",
           "Fri",
           "Lunch",
           2
          ],
          [
           "Female",
           "Yes",
           "Sat",
           "Dinner",
           2
          ],
          [
           "Female",
           "No",
           "Sat",
           "Dinner",
           3
          ],
          [
           "Female",
           "Yes",
           "Sat",
           "Dinner",
           2
          ],
          [
           "Female",
           "No",
           "Thur",
           "Dinner",
           2
          ]
         ],
         "fillcolor": "rgba(255,255,255,0)",
         "hoveron": "points",
         "hovertemplate": "sex=%{customdata[0]}<br>total_bill=%{x}<br>smoker=%{customdata[1]}<br>day=%{customdata[2]}<br>time=%{customdata[3]}<br>size=%{customdata[4]}<extra></extra>",
         "jitter": 0,
         "legendgroup": "Female",
         "line": {
          "color": "rgba(255,255,255,0)"
         },
         "marker": {
          "color": "#636efa",
          "symbol": "line-ns-open"
         },
         "name": "Female",
         "offsetgroup": "Female",
         "showlegend": false,
         "type": "box",
         "x": [
          16.99,
          24.59,
          35.26,
          14.83,
          10.33,
          16.97,
          20.29,
          15.77,
          19.65,
          15.06,
          20.69,
          16.93,
          10.29,
          34.81,
          26.41,
          16.45,
          3.07,
          17.07,
          26.86,
          25.28,
          14.73,
          10.07,
          34.83,
          5.75,
          16.32,
          22.75,
          11.35,
          15.38,
          44.3,
          22.42,
          20.92,
          14.31,
          7.25,
          25.71,
          17.31,
          10.65,
          12.43,
          24.08,
          13.42,
          12.48,
          29.8,
          14.52,
          11.38,
          20.27,
          11.17,
          12.26,
          18.26,
          8.51,
          10.33,
          14.15,
          13.16,
          17.47,
          27.05,
          16.43,
          8.35,
          18.64,
          11.87,
          29.85,
          25,
          13.39,
          16.21,
          17.51,
          10.59,
          10.63,
          9.6,
          20.9,
          18.15,
          19.81,
          43.11,
          13,
          12.74,
          13,
          16.4,
          16.47,
          12.76,
          13.27,
          28.17,
          12.9,
          30.14,
          13.42,
          15.98,
          16.27,
          10.09,
          22.12,
          35.83,
          27.18,
          18.78
         ],
         "xaxis": "x2",
         "yaxis": "y2"
        },
        {
         "alignmentgroup": "True",
         "bingroup": "x",
         "histfunc": "sum",
         "hovertemplate": "sex=Male<br>total_bill=%{x}<br>sum of tip=%{y}<extra></extra>",
         "legendgroup": "Male",
         "marker": {
          "color": "#EF553B",
          "pattern": {
           "shape": ""
          }
         },
         "name": "Male",
         "offsetgroup": "Male",
         "orientation": "v",
         "showlegend": true,
         "type": "histogram",
         "x": [
          10.34,
          21.01,
          23.68,
          25.29,
          8.77,
          26.88,
          15.04,
          14.78,
          10.27,
          15.42,
          18.43,
          21.58,
          16.29,
          20.65,
          17.92,
          39.42,
          19.82,
          17.81,
          13.37,
          12.69,
          21.7,
          9.55,
          18.35,
          17.78,
          24.06,
          16.31,
          18.69,
          31.27,
          16.04,
          17.46,
          13.94,
          9.68,
          30.4,
          18.29,
          22.23,
          32.4,
          28.55,
          18.04,
          12.54,
          9.94,
          25.56,
          19.49,
          38.01,
          11.24,
          48.27,
          20.29,
          13.81,
          11.02,
          18.29,
          17.59,
          20.08,
          20.23,
          15.01,
          12.02,
          10.51,
          17.92,
          27.2,
          22.76,
          17.29,
          19.44,
          16.66,
          32.68,
          15.98,
          13.03,
          18.28,
          24.71,
          21.16,
          28.97,
          22.49,
          40.17,
          27.28,
          12.03,
          21.01,
          12.46,
          15.36,
          20.49,
          25.21,
          18.24,
          14,
          38.07,
          23.95,
          29.93,
          11.69,
          14.26,
          15.95,
          8.52,
          22.82,
          19.08,
          16,
          34.3,
          41.19,
          9.78,
          7.51,
          14.07,
          13.13,
          17.26,
          24.55,
          19.77,
          48.17,
          16.49,
          21.5,
          12.66,
          13.81,
          24.52,
          20.76,
          31.71,
          50.81,
          15.81,
          7.25,
          31.85,
          16.82,
          32.9,
          17.89,
          14.48,
          34.63,
          34.65,
          23.33,
          45.35,
          23.17,
          40.55,
          20.69,
          30.46,
          23.1,
          15.69,
          28.44,
          15.48,
          16.58,
          7.56,
          10.34,
          13.51,
          18.71,
          20.53,
          26.59,
          38.73,
          24.27,
          30.06,
          25.89,
          48.33,
          28.15,
          11.59,
          7.74,
          12.16,
          8.58,
          13.42,
          20.45,
          13.28,
          24.01,
          15.69,
          11.61,
          10.77,
          15.53,
          10.07,
          12.6,
          32.83,
          29.03,
          22.67,
          17.82
         ],
         "xaxis": "x",
         "y": [
          1.66,
          3.5,
          3.31,
          4.71,
          2,
          3.12,
          1.96,
          3.23,
          1.71,
          1.57,
          3,
          3.92,
          3.71,
          3.35,
          4.08,
          7.58,
          3.18,
          2.34,
          2,
          2,
          4.3,
          1.45,
          2.5,
          3.27,
          3.6,
          2,
          2.31,
          5,
          2.24,
          2.54,
          3.06,
          1.32,
          5.6,
          3,
          5,
          6,
          2.05,
          3,
          2.5,
          1.56,
          4.34,
          3.51,
          3,
          1.76,
          6.73,
          3.21,
          2,
          1.98,
          3.76,
          2.64,
          3.15,
          2.01,
          2.09,
          1.97,
          1.25,
          3.08,
          4,
          3,
          2.71,
          3,
          3.4,
          5,
          2.03,
          2,
          4,
          5.85,
          3,
          3,
          3.5,
          4.73,
          4,
          1.5,
          3,
          1.5,
          1.64,
          4.06,
          4.29,
          3.76,
          3,
          4,
          2.55,
          5.07,
          2.31,
          2.5,
          2,
          1.48,
          2.18,
          1.5,
          2,
          6.7,
          5,
          1.73,
          2,
          2.5,
          2,
          2.74,
          2,
          2,
          5,
          2,
          3.5,
          2.5,
          2,
          3.48,
          2.24,
          4.5,
          10,
          3.16,
          5.15,
          3.18,
          4,
          3.11,
          2,
          2,
          3.55,
          3.68,
          5.65,
          3.5,
          6.5,
          3,
          5,
          2,
          4,
          1.5,
          2.56,
          2.02,
          4,
          1.44,
          2,
          2,
          4,
          4,
          3.41,
          3,
          2.03,
          2,
          5.16,
          9,
          3,
          1.5,
          1.44,
          2.2,
          1.92,
          1.58,
          3,
          2.72,
          2,
          3,
          3.39,
          1.47,
          3,
          1.25,
          1,
          1.17,
          5.92,
          2,
          1.75
         ],
         "yaxis": "y"
        },
        {
         "alignmentgroup": "True",
         "boxpoints": "all",
         "customdata": [
          [
           "Male",
           "No",
           "Sun",
           "Dinner",
           3
          ],
          [
           "Male",
           "No",
           "Sun",
           "Dinner",
           3
          ],
          [
           "Male",
           "No",
           "Sun",
           "Dinner",
           2
          ],
          [
           "Male",
           "No",
           "Sun",
           "Dinner",
           4
          ],
          [
           "Male",
           "No",
           "Sun",
           "Dinner",
           2
          ],
          [
           "Male",
           "No",
           "Sun",
           "Dinner",
           4
          ],
          [
           "Male",
           "No",
           "Sun",
           "Dinner",
           2
          ],
          [
           "Male",
           "No",
           "Sun",
           "Dinner",
           2
          ],
          [
           "Male",
           "No",
           "Sun",
           "Dinner",
           2
          ],
          [
           "Male",
           "No",
           "Sun",
           "Dinner",
           2
          ],
          [
           "Male",
           "No",
           "Sun",
           "Dinner",
           4
          ],
          [
           "Male",
           "No",
           "Sun",
           "Dinner",
           2
          ],
          [
           "Male",
           "No",
           "Sun",
           "Dinner",
           3
          ],
          [
           "Male",
           "No",
           "Sat",
           "Dinner",
           3
          ],
          [
           "Male",
           "No",
           "Sat",
           "Dinner",
           2
          ],
          [
           "Male",
           "No",
           "Sat",
           "Dinner",
           4
          ],
          [
           "Male",
           "No",
           "Sat",
           "Dinner",
           2
          ],
          [
           "Male",
           "No",
           "Sat",
           "Dinner",
           4
          ],
          [
           "Male",
           "No",
           "Sat",
           "Dinner",
           2
          ],
          [
           "Male",
           "No",
           "Sat",
           "Dinner",
           2
          ],
          [
           "Male",
           "No",
           "Sat",
           "Dinner",
           2
          ],
          [
           "Male",
           "No",
           "Sat",
           "Dinner",
           2
          ],
          [
           "Male",
           "No",
           "Sat",
           "Dinner",
           4
          ],
          [
           "Male",
           "No",
           "Sat",
           "Dinner",
           2
          ],
          [
           "Male",
           "No",
           "Sat",
           "Dinner",
           3
          ],
          [
           "Male",
           "No",
           "Sat",
           "Dinner",
           3
          ],
          [
           "Male",
           "No",
           "Sat",
           "Dinner",
           3
          ],
          [
           "Male",
           "No",
           "Sat",
           "Dinner",
           3
          ],
          [
           "Male",
           "No",
           "Sat",
           "Dinner",
           3
          ],
          [
           "Male",
           "No",
           "Sun",
           "Dinner",
           2
          ],
          [
           "Male",
           "No",
           "Sun",
           "Dinner",
           2
          ],
          [
           "Male",
           "No",
           "Sun",
           "Dinner",
           2
          ],
          [
           "Male",
           "No",
           "Sun",
           "Dinner",
           4
          ],
          [
           "Male",
           "No",
           "Sun",
           "Dinner",
           2
          ],
          [
           "Male",
           "No",
           "Sun",
           "Dinner",
           2
          ],
          [
           "Male",
           "No",
           "Sun",
           "Dinner",
           4
          ],
          [
           "Male",
           "No",
           "Sun",
           "Dinner",
           3
          ],
          [
           "Male",
           "No",
           "Sun",
           "Dinner",
           2
          ],
          [
           "Male",
           "No",
           "Sun",
           "Dinner",
           2
          ],
          [
           "Male",
           "No",
           "Sun",
           "Dinner",
           2
          ],
          [
           "Male",
           "No",
           "Sun",
           "Dinner",
           4
          ],
          [
           "Male",
           "No",
           "Sun",
           "Dinner",
           2
          ],
          [
           "Male",
           "Yes",
           "Sat",
           "Dinner",
           4
          ],
          [
           "Male",
           "Yes",
           "Sat",
           "Dinner",
           2
          ],
          [
           "Male",
           "No",
           "Sat",
           "Dinner",
           4
          ],
          [
           "Male",
           "Yes",
           "Sat",
           "Dinner",
           2
          ],
          [
           "Male",
           "Yes",
           "Sat",
           "Dinner",
           2
          ],
          [
           "Male",
           "Yes",
           "Sat",
           "Dinner",
           2
          ],
          [
           "Male",
           "Yes",
           "Sat",
           "Dinner",
           4
          ],
          [
           "Male",
           "No",
           "Sat",
           "Dinner",
           3
          ],
          [
           "Male",
           "No",
           "Sat",
           "Dinner",
           3
          ],
          [
           "Male",
           "No",
           "Sat",
           "Dinner",
           2
          ],
          [
           "Male",
           "Yes",
           "Sat",
           "Dinner",
           2
          ],
          [
           "Male",
           "No",
           "Sat",
           "Dinner",
           2
          ],
          [
           "Male",
           "No",
           "Sat",
           "Dinner",
           2
          ],
          [
           "Male",
           "Yes",
           "Sat",
           "Dinner",
           2
          ],
          [
           "Male",
           "No",
           "Thur",
           "Lunch",
           4
          ],
          [
           "Male",
           "No",
           "Thur",
           "Lunch",
           2
          ],
          [
           "Male",
           "No",
           "Thur",
           "Lunch",
           2
          ],
          [
           "Male",
           "Yes",
           "Thur",
           "Lunch",
           2
          ],
          [
           "Male",
           "No",
           "Thur",
           "Lunch",
           2
          ],
          [
           "Male",
           "Yes",
           "Thur",
           "Lunch",
           2
          ],
          [
           "Male",
           "No",
           "Thur",
           "Lunch",
           2
          ],
          [
           "Male",
           "No",
           "Thur",
           "Lunch",
           2
          ],
          [
           "Male",
           "No",
           "Thur",
           "Lunch",
           2
          ],
          [
           "Male",
           "No",
           "Thur",
           "Lunch",
           2
          ],
          [
           "Male",
           "No",
           "Thur",
           "Lunch",
           2
          ],
          [
           "Male",
           "Yes",
           "Fri",
           "Dinner",
           2
          ],
          [
           "Male",
           "No",
           "Fri",
           "Dinner",
           2
          ],
          [
           "Male",
           "Yes",
           "Fri",
           "Dinner",
           4
          ],
          [
           "Male",
           "Yes",
           "Fri",
           "Dinner",
           2
          ],
          [
           "Male",
           "Yes",
           "Fri",
           "Dinner",
           2
          ],
          [
           "Male",
           "Yes",
           "Fri",
           "Dinner",
           2
          ],
          [
           "Male",
           "No",
           "Fri",
           "Dinner",
           2
          ],
          [
           "Male",
           "Yes",
           "Sat",
           "Dinner",
           2
          ],
          [
           "Male",
           "Yes",
           "Sat",
           "Dinner",
           2
          ],
          [
           "Male",
           "Yes",
           "Sat",
           "Dinner",
           2
          ],
          [
           "Male",
           "No",
           "Sat",
           "Dinner",
           2
          ],
          [
           "Male",
           "No",
           "Sat",
           "Dinner",
           2
          ],
          [
           "Male",
           "No",
           "Sun",
           "Dinner",
           3
          ],
          [
           "Male",
           "No",
           "Sun",
           "Dinner",
           2
          ],
          [
           "Male",
           "No",
           "Sun",
           "Dinner",
           4
          ],
          [
           "Male",
           "No",
           "Thur",
           "Lunch",
           2
          ],
          [
           "Male",
           "No",
           "Thur",
           "Lunch",
           2
          ],
          [
           "Male",
           "No",
           "Thur",
           "Lunch",
           2
          ],
          [
           "Male",
           "No",
           "Thur",
           "Lunch",
           2
          ],
          [
           "Male",
           "No",
           "Thur",
           "Lunch",
           3
          ],
          [
           "Male",
           "No",
           "Thur",
           "Lunch",
           2
          ],
          [
           "Male",
           "Yes",
           "Thur",
           "Lunch",
           2
          ],
          [
           "Male",
           "No",
           "Thur",
           "Lunch",
           6
          ],
          [
           "Male",
           "No",
           "Thur",
           "Lunch",
           5
          ],
          [
           "Male",
           "No",
           "Thur",
           "Lunch",
           2
          ],
          [
           "Male",
           "No",
           "Thur",
           "Lunch",
           2
          ],
          [
           "Male",
           "No",
           "Sun",
           "Dinner",
           2
          ],
          [
           "Male",
           "No",
           "Sun",
           "Dinner",
           2
          ],
          [
           "Male",
           "No",
           "Sun",
           "Dinner",
           3
          ],
          [
           "Male",
           "No",
           "Sun",
           "Dinner",
           4
          ],
          [
           "Male",
           "No",
           "Sun",
           "Dinner",
           4
          ],
          [
           "Male",
           "No",
           "Sun",
           "Dinner",
           6
          ],
          [
           "Male",
           "No",
           "Sun",
           "Dinner",
           4
          ],
          [
           "Male",
           "No",
           "Sun",
           "Dinner",
           4
          ],
          [
           "Male",
           "No",
           "Sun",
           "Dinner",
           2
          ],
          [
           "Male",
           "No",
           "Sun",
           "Dinner",
           2
          ],
          [
           "Male",
           "No",
           "Sun",
           "Dinner",
           3
          ],
          [
           "Male",
           "No",
           "Sun",
           "Dinner",
           2
          ],
          [
           "Male",
           "No",
           "Sun",
           "Dinner",
           4
          ],
          [
           "Male",
           "Yes",
           "Sat",
           "Dinner",
           3
          ],
          [
           "Male",
           "Yes",
           "Sat",
           "Dinner",
           2
          ],
          [
           "Male",
           "Yes",
           "Sun",
           "Dinner",
           2
          ],
          [
           "Male",
           "Yes",
           "Sun",
           "Dinner",
           2
          ],
          [
           "Male",
           "Yes",
           "Sun",
           "Dinner",
           2
          ],
          [
           "Male",
           "Yes",
           "Sun",
           "Dinner",
           2
          ],
          [
           "Male",
           "Yes",
           "Sun",
           "Dinner",
           2
          ],
          [
           "Male",
           "Yes",
           "Sun",
           "Dinner",
           2
          ],
          [
           "Male",
           "Yes",
           "Sun",
           "Dinner",
           2
          ],
          [
           "Male",
           "Yes",
           "Sun",
           "Dinner",
           4
          ],
          [
           "Male",
           "Yes",
           "Sun",
           "Dinner",
           2
          ],
          [
           "Male",
           "Yes",
           "Sun",
           "Dinner",
           3
          ],
          [
           "Male",
           "Yes",
           "Sun",
           "Dinner",
           4
          ],
          [
           "Male",
           "Yes",
           "Sun",
           "Dinner",
           2
          ],
          [
           "Male",
           "No",
           "Sun",
           "Dinner",
           5
          ],
          [
           "Male",
           "Yes",
           "Sun",
           "Dinner",
           5
          ],
          [
           "Male",
           "Yes",
           "Sun",
           "Dinner",
           3
          ],
          [
           "Male",
           "Yes",
           "Sun",
           "Dinner",
           2
          ],
          [
           "Male",
           "Yes",
           "Thur",
           "Lunch",
           2
          ],
          [
           "Male",
           "Yes",
           "Thur",
           "Lunch",
           2
          ],
          [
           "Male",
           "Yes",
           "Thur",
           "Lunch",
           2
          ],
          [
           "Male",
           "No",
           "Thur",
           "Lunch",
           2
          ],
          [
           "Male",
           "Yes",
           "Thur",
           "Lunch",
           2
          ],
          [
           "Male",
           "Yes",
           "Thur",
           "Lunch",
           2
          ],
          [
           "Male",
           "Yes",
           "Thur",
           "Lunch",
           3
          ],
          [
           "Male",
           "Yes",
           "Thur",
           "Lunch",
           4
          ],
          [
           "Male",
           "Yes",
           "Sat",
           "Dinner",
           3
          ],
          [
           "Male",
           "Yes",
           "Sat",
           "Dinner",
           4
          ],
          [
           "Male",
           "Yes",
           "Sat",
           "Dinner",
           2
          ],
          [
           "Male",
           "Yes",
           "Sat",
           "Dinner",
           3
          ],
          [
           "Male",
           "Yes",
           "Sat",
           "Dinner",
           4
          ],
          [
           "Male",
           "No",
           "Sat",
           "Dinner",
           4
          ],
          [
           "Male",
           "Yes",
           "Sat",
           "Dinner",
           5
          ],
          [
           "Male",
           "Yes",
           "Sat",
           "Dinner",
           2
          ],
          [
           "Male",
           "Yes",
           "Sat",
           "Dinner",
           2
          ],
          [
           "Male",
           "Yes",
           "Fri",
           "Lunch",
           2
          ],
          [
           "Male",
           "Yes",
           "Fri",
           "Lunch",
           1
          ],
          [
           "Male",
           "Yes",
           "Fri",
           "Lunch",
           2
          ],
          [
           "Male",
           "No",
           "Sat",
           "Dinner",
           4
          ],
          [
           "Male",
           "No",
           "Sat",
           "Dinner",
           2
          ],
          [
           "Male",
           "Yes",
           "Sat",
           "Dinner",
           4
          ],
          [
           "Male",
           "Yes",
           "Sat",
           "Dinner",
           3
          ],
          [
           "Male",
           "No",
           "Sat",
           "Dinner",
           2
          ],
          [
           "Male",
           "No",
           "Sat",
           "Dinner",
           2
          ],
          [
           "Male",
           "Yes",
           "Sat",
           "Dinner",
           2
          ],
          [
           "Male",
           "No",
           "Sat",
           "Dinner",
           2
          ],
          [
           "Male",
           "Yes",
           "Sat",
           "Dinner",
           2
          ],
          [
           "Male",
           "Yes",
           "Sat",
           "Dinner",
           2
          ],
          [
           "Male",
           "No",
           "Sat",
           "Dinner",
           3
          ],
          [
           "Male",
           "Yes",
           "Sat",
           "Dinner",
           2
          ],
          [
           "Male",
           "No",
           "Sat",
           "Dinner",
           2
          ]
         ],
         "fillcolor": "rgba(255,255,255,0)",
         "hoveron": "points",
         "hovertemplate": "sex=%{customdata[0]}<br>total_bill=%{x}<br>smoker=%{customdata[1]}<br>day=%{customdata[2]}<br>time=%{customdata[3]}<br>size=%{customdata[4]}<extra></extra>",
         "jitter": 0,
         "legendgroup": "Male",
         "line": {
          "color": "rgba(255,255,255,0)"
         },
         "marker": {
          "color": "#EF553B",
          "symbol": "line-ns-open"
         },
         "name": "Male",
         "offsetgroup": "Male",
         "showlegend": false,
         "type": "box",
         "x": [
          10.34,
          21.01,
          23.68,
          25.29,
          8.77,
          26.88,
          15.04,
          14.78,
          10.27,
          15.42,
          18.43,
          21.58,
          16.29,
          20.65,
          17.92,
          39.42,
          19.82,
          17.81,
          13.37,
          12.69,
          21.7,
          9.55,
          18.35,
          17.78,
          24.06,
          16.31,
          18.69,
          31.27,
          16.04,
          17.46,
          13.94,
          9.68,
          30.4,
          18.29,
          22.23,
          32.4,
          28.55,
          18.04,
          12.54,
          9.94,
          25.56,
          19.49,
          38.01,
          11.24,
          48.27,
          20.29,
          13.81,
          11.02,
          18.29,
          17.59,
          20.08,
          20.23,
          15.01,
          12.02,
          10.51,
          17.92,
          27.2,
          22.76,
          17.29,
          19.44,
          16.66,
          32.68,
          15.98,
          13.03,
          18.28,
          24.71,
          21.16,
          28.97,
          22.49,
          40.17,
          27.28,
          12.03,
          21.01,
          12.46,
          15.36,
          20.49,
          25.21,
          18.24,
          14,
          38.07,
          23.95,
          29.93,
          11.69,
          14.26,
          15.95,
          8.52,
          22.82,
          19.08,
          16,
          34.3,
          41.19,
          9.78,
          7.51,
          14.07,
          13.13,
          17.26,
          24.55,
          19.77,
          48.17,
          16.49,
          21.5,
          12.66,
          13.81,
          24.52,
          20.76,
          31.71,
          50.81,
          15.81,
          7.25,
          31.85,
          16.82,
          32.9,
          17.89,
          14.48,
          34.63,
          34.65,
          23.33,
          45.35,
          23.17,
          40.55,
          20.69,
          30.46,
          23.1,
          15.69,
          28.44,
          15.48,
          16.58,
          7.56,
          10.34,
          13.51,
          18.71,
          20.53,
          26.59,
          38.73,
          24.27,
          30.06,
          25.89,
          48.33,
          28.15,
          11.59,
          7.74,
          12.16,
          8.58,
          13.42,
          20.45,
          13.28,
          24.01,
          15.69,
          11.61,
          10.77,
          15.53,
          10.07,
          12.6,
          32.83,
          29.03,
          22.67,
          17.82
         ],
         "xaxis": "x2",
         "yaxis": "y2"
        }
       ],
       "layout": {
        "barmode": "relative",
        "legend": {
         "title": {
          "text": "sex"
         },
         "tracegroupgap": 0
        },
        "margin": {
         "t": 60
        },
        "template": {
         "data": {
          "bar": [
           {
            "error_x": {
             "color": "#2a3f5f"
            },
            "error_y": {
             "color": "#2a3f5f"
            },
            "marker": {
             "line": {
              "color": "#E5ECF6",
              "width": 0.5
             },
             "pattern": {
              "fillmode": "overlay",
              "size": 10,
              "solidity": 0.2
             }
            },
            "type": "bar"
           }
          ],
          "barpolar": [
           {
            "marker": {
             "line": {
              "color": "#E5ECF6",
              "width": 0.5
             },
             "pattern": {
              "fillmode": "overlay",
              "size": 10,
              "solidity": 0.2
             }
            },
            "type": "barpolar"
           }
          ],
          "carpet": [
           {
            "aaxis": {
             "endlinecolor": "#2a3f5f",
             "gridcolor": "white",
             "linecolor": "white",
             "minorgridcolor": "white",
             "startlinecolor": "#2a3f5f"
            },
            "baxis": {
             "endlinecolor": "#2a3f5f",
             "gridcolor": "white",
             "linecolor": "white",
             "minorgridcolor": "white",
             "startlinecolor": "#2a3f5f"
            },
            "type": "carpet"
           }
          ],
          "choropleth": [
           {
            "colorbar": {
             "outlinewidth": 0,
             "ticks": ""
            },
            "type": "choropleth"
           }
          ],
          "contour": [
           {
            "colorbar": {
             "outlinewidth": 0,
             "ticks": ""
            },
            "colorscale": [
             [
              0,
              "#0d0887"
             ],
             [
              0.1111111111111111,
              "#46039f"
             ],
             [
              0.2222222222222222,
              "#7201a8"
             ],
             [
              0.3333333333333333,
              "#9c179e"
             ],
             [
              0.4444444444444444,
              "#bd3786"
             ],
             [
              0.5555555555555556,
              "#d8576b"
             ],
             [
              0.6666666666666666,
              "#ed7953"
             ],
             [
              0.7777777777777778,
              "#fb9f3a"
             ],
             [
              0.8888888888888888,
              "#fdca26"
             ],
             [
              1,
              "#f0f921"
             ]
            ],
            "type": "contour"
           }
          ],
          "contourcarpet": [
           {
            "colorbar": {
             "outlinewidth": 0,
             "ticks": ""
            },
            "type": "contourcarpet"
           }
          ],
          "heatmap": [
           {
            "colorbar": {
             "outlinewidth": 0,
             "ticks": ""
            },
            "colorscale": [
             [
              0,
              "#0d0887"
             ],
             [
              0.1111111111111111,
              "#46039f"
             ],
             [
              0.2222222222222222,
              "#7201a8"
             ],
             [
              0.3333333333333333,
              "#9c179e"
             ],
             [
              0.4444444444444444,
              "#bd3786"
             ],
             [
              0.5555555555555556,
              "#d8576b"
             ],
             [
              0.6666666666666666,
              "#ed7953"
             ],
             [
              0.7777777777777778,
              "#fb9f3a"
             ],
             [
              0.8888888888888888,
              "#fdca26"
             ],
             [
              1,
              "#f0f921"
             ]
            ],
            "type": "heatmap"
           }
          ],
          "heatmapgl": [
           {
            "colorbar": {
             "outlinewidth": 0,
             "ticks": ""
            },
            "colorscale": [
             [
              0,
              "#0d0887"
             ],
             [
              0.1111111111111111,
              "#46039f"
             ],
             [
              0.2222222222222222,
              "#7201a8"
             ],
             [
              0.3333333333333333,
              "#9c179e"
             ],
             [
              0.4444444444444444,
              "#bd3786"
             ],
             [
              0.5555555555555556,
              "#d8576b"
             ],
             [
              0.6666666666666666,
              "#ed7953"
             ],
             [
              0.7777777777777778,
              "#fb9f3a"
             ],
             [
              0.8888888888888888,
              "#fdca26"
             ],
             [
              1,
              "#f0f921"
             ]
            ],
            "type": "heatmapgl"
           }
          ],
          "histogram": [
           {
            "marker": {
             "pattern": {
              "fillmode": "overlay",
              "size": 10,
              "solidity": 0.2
             }
            },
            "type": "histogram"
           }
          ],
          "histogram2d": [
           {
            "colorbar": {
             "outlinewidth": 0,
             "ticks": ""
            },
            "colorscale": [
             [
              0,
              "#0d0887"
             ],
             [
              0.1111111111111111,
              "#46039f"
             ],
             [
              0.2222222222222222,
              "#7201a8"
             ],
             [
              0.3333333333333333,
              "#9c179e"
             ],
             [
              0.4444444444444444,
              "#bd3786"
             ],
             [
              0.5555555555555556,
              "#d8576b"
             ],
             [
              0.6666666666666666,
              "#ed7953"
             ],
             [
              0.7777777777777778,
              "#fb9f3a"
             ],
             [
              0.8888888888888888,
              "#fdca26"
             ],
             [
              1,
              "#f0f921"
             ]
            ],
            "type": "histogram2d"
           }
          ],
          "histogram2dcontour": [
           {
            "colorbar": {
             "outlinewidth": 0,
             "ticks": ""
            },
            "colorscale": [
             [
              0,
              "#0d0887"
             ],
             [
              0.1111111111111111,
              "#46039f"
             ],
             [
              0.2222222222222222,
              "#7201a8"
             ],
             [
              0.3333333333333333,
              "#9c179e"
             ],
             [
              0.4444444444444444,
              "#bd3786"
             ],
             [
              0.5555555555555556,
              "#d8576b"
             ],
             [
              0.6666666666666666,
              "#ed7953"
             ],
             [
              0.7777777777777778,
              "#fb9f3a"
             ],
             [
              0.8888888888888888,
              "#fdca26"
             ],
             [
              1,
              "#f0f921"
             ]
            ],
            "type": "histogram2dcontour"
           }
          ],
          "mesh3d": [
           {
            "colorbar": {
             "outlinewidth": 0,
             "ticks": ""
            },
            "type": "mesh3d"
           }
          ],
          "parcoords": [
           {
            "line": {
             "colorbar": {
              "outlinewidth": 0,
              "ticks": ""
             }
            },
            "type": "parcoords"
           }
          ],
          "pie": [
           {
            "automargin": true,
            "type": "pie"
           }
          ],
          "scatter": [
           {
            "marker": {
             "colorbar": {
              "outlinewidth": 0,
              "ticks": ""
             }
            },
            "type": "scatter"
           }
          ],
          "scatter3d": [
           {
            "line": {
             "colorbar": {
              "outlinewidth": 0,
              "ticks": ""
             }
            },
            "marker": {
             "colorbar": {
              "outlinewidth": 0,
              "ticks": ""
             }
            },
            "type": "scatter3d"
           }
          ],
          "scattercarpet": [
           {
            "marker": {
             "colorbar": {
              "outlinewidth": 0,
              "ticks": ""
             }
            },
            "type": "scattercarpet"
           }
          ],
          "scattergeo": [
           {
            "marker": {
             "colorbar": {
              "outlinewidth": 0,
              "ticks": ""
             }
            },
            "type": "scattergeo"
           }
          ],
          "scattergl": [
           {
            "marker": {
             "colorbar": {
              "outlinewidth": 0,
              "ticks": ""
             }
            },
            "type": "scattergl"
           }
          ],
          "scattermapbox": [
           {
            "marker": {
             "colorbar": {
              "outlinewidth": 0,
              "ticks": ""
             }
            },
            "type": "scattermapbox"
           }
          ],
          "scatterpolar": [
           {
            "marker": {
             "colorbar": {
              "outlinewidth": 0,
              "ticks": ""
             }
            },
            "type": "scatterpolar"
           }
          ],
          "scatterpolargl": [
           {
            "marker": {
             "colorbar": {
              "outlinewidth": 0,
              "ticks": ""
             }
            },
            "type": "scatterpolargl"
           }
          ],
          "scatterternary": [
           {
            "marker": {
             "colorbar": {
              "outlinewidth": 0,
              "ticks": ""
             }
            },
            "type": "scatterternary"
           }
          ],
          "surface": [
           {
            "colorbar": {
             "outlinewidth": 0,
             "ticks": ""
            },
            "colorscale": [
             [
              0,
              "#0d0887"
             ],
             [
              0.1111111111111111,
              "#46039f"
             ],
             [
              0.2222222222222222,
              "#7201a8"
             ],
             [
              0.3333333333333333,
              "#9c179e"
             ],
             [
              0.4444444444444444,
              "#bd3786"
             ],
             [
              0.5555555555555556,
              "#d8576b"
             ],
             [
              0.6666666666666666,
              "#ed7953"
             ],
             [
              0.7777777777777778,
              "#fb9f3a"
             ],
             [
              0.8888888888888888,
              "#fdca26"
             ],
             [
              1,
              "#f0f921"
             ]
            ],
            "type": "surface"
           }
          ],
          "table": [
           {
            "cells": {
             "fill": {
              "color": "#EBF0F8"
             },
             "line": {
              "color": "white"
             }
            },
            "header": {
             "fill": {
              "color": "#C8D4E3"
             },
             "line": {
              "color": "white"
             }
            },
            "type": "table"
           }
          ]
         },
         "layout": {
          "annotationdefaults": {
           "arrowcolor": "#2a3f5f",
           "arrowhead": 0,
           "arrowwidth": 1
          },
          "autotypenumbers": "strict",
          "coloraxis": {
           "colorbar": {
            "outlinewidth": 0,
            "ticks": ""
           }
          },
          "colorscale": {
           "diverging": [
            [
             0,
             "#8e0152"
            ],
            [
             0.1,
             "#c51b7d"
            ],
            [
             0.2,
             "#de77ae"
            ],
            [
             0.3,
             "#f1b6da"
            ],
            [
             0.4,
             "#fde0ef"
            ],
            [
             0.5,
             "#f7f7f7"
            ],
            [
             0.6,
             "#e6f5d0"
            ],
            [
             0.7,
             "#b8e186"
            ],
            [
             0.8,
             "#7fbc41"
            ],
            [
             0.9,
             "#4d9221"
            ],
            [
             1,
             "#276419"
            ]
           ],
           "sequential": [
            [
             0,
             "#0d0887"
            ],
            [
             0.1111111111111111,
             "#46039f"
            ],
            [
             0.2222222222222222,
             "#7201a8"
            ],
            [
             0.3333333333333333,
             "#9c179e"
            ],
            [
             0.4444444444444444,
             "#bd3786"
            ],
            [
             0.5555555555555556,
             "#d8576b"
            ],
            [
             0.6666666666666666,
             "#ed7953"
            ],
            [
             0.7777777777777778,
             "#fb9f3a"
            ],
            [
             0.8888888888888888,
             "#fdca26"
            ],
            [
             1,
             "#f0f921"
            ]
           ],
           "sequentialminus": [
            [
             0,
             "#0d0887"
            ],
            [
             0.1111111111111111,
             "#46039f"
            ],
            [
             0.2222222222222222,
             "#7201a8"
            ],
            [
             0.3333333333333333,
             "#9c179e"
            ],
            [
             0.4444444444444444,
             "#bd3786"
            ],
            [
             0.5555555555555556,
             "#d8576b"
            ],
            [
             0.6666666666666666,
             "#ed7953"
            ],
            [
             0.7777777777777778,
             "#fb9f3a"
            ],
            [
             0.8888888888888888,
             "#fdca26"
            ],
            [
             1,
             "#f0f921"
            ]
           ]
          },
          "colorway": [
           "#636efa",
           "#EF553B",
           "#00cc96",
           "#ab63fa",
           "#FFA15A",
           "#19d3f3",
           "#FF6692",
           "#B6E880",
           "#FF97FF",
           "#FECB52"
          ],
          "font": {
           "color": "#2a3f5f"
          },
          "geo": {
           "bgcolor": "white",
           "lakecolor": "white",
           "landcolor": "#E5ECF6",
           "showlakes": true,
           "showland": true,
           "subunitcolor": "white"
          },
          "hoverlabel": {
           "align": "left"
          },
          "hovermode": "closest",
          "mapbox": {
           "style": "light"
          },
          "paper_bgcolor": "white",
          "plot_bgcolor": "#E5ECF6",
          "polar": {
           "angularaxis": {
            "gridcolor": "white",
            "linecolor": "white",
            "ticks": ""
           },
           "bgcolor": "#E5ECF6",
           "radialaxis": {
            "gridcolor": "white",
            "linecolor": "white",
            "ticks": ""
           }
          },
          "scene": {
           "xaxis": {
            "backgroundcolor": "#E5ECF6",
            "gridcolor": "white",
            "gridwidth": 2,
            "linecolor": "white",
            "showbackground": true,
            "ticks": "",
            "zerolinecolor": "white"
           },
           "yaxis": {
            "backgroundcolor": "#E5ECF6",
            "gridcolor": "white",
            "gridwidth": 2,
            "linecolor": "white",
            "showbackground": true,
            "ticks": "",
            "zerolinecolor": "white"
           },
           "zaxis": {
            "backgroundcolor": "#E5ECF6",
            "gridcolor": "white",
            "gridwidth": 2,
            "linecolor": "white",
            "showbackground": true,
            "ticks": "",
            "zerolinecolor": "white"
           }
          },
          "shapedefaults": {
           "line": {
            "color": "#2a3f5f"
           }
          },
          "ternary": {
           "aaxis": {
            "gridcolor": "white",
            "linecolor": "white",
            "ticks": ""
           },
           "baxis": {
            "gridcolor": "white",
            "linecolor": "white",
            "ticks": ""
           },
           "bgcolor": "#E5ECF6",
           "caxis": {
            "gridcolor": "white",
            "linecolor": "white",
            "ticks": ""
           }
          },
          "title": {
           "x": 0.05
          },
          "xaxis": {
           "automargin": true,
           "gridcolor": "white",
           "linecolor": "white",
           "ticks": "",
           "title": {
            "standoff": 15
           },
           "zerolinecolor": "white",
           "zerolinewidth": 2
          },
          "yaxis": {
           "automargin": true,
           "gridcolor": "white",
           "linecolor": "white",
           "ticks": "",
           "title": {
            "standoff": 15
           },
           "zerolinecolor": "white",
           "zerolinewidth": 2
          }
         }
        },
        "xaxis": {
         "anchor": "y",
         "domain": [
          0,
          1
         ],
         "title": {
          "text": "total_bill"
         }
        },
        "xaxis2": {
         "anchor": "y2",
         "domain": [
          0,
          1
         ],
         "matches": "x",
         "showgrid": true,
         "showticklabels": false
        },
        "yaxis": {
         "anchor": "x",
         "domain": [
          0,
          0.7326
         ],
         "title": {
          "text": "sum of tip"
         }
        },
        "yaxis2": {
         "anchor": "x2",
         "domain": [
          0.7426,
          1
         ],
         "matches": "y2",
         "showgrid": false,
         "showline": false,
         "showticklabels": false,
         "ticks": ""
        }
       }
      },
      "text/html": [
       "<div>                            <div id=\"46928cae-0935-4583-a575-dc4f1219380a\" class=\"plotly-graph-div\" style=\"height:525px; width:100%;\"></div>            <script type=\"text/javascript\">                require([\"plotly\"], function(Plotly) {                    window.PLOTLYENV=window.PLOTLYENV || {};                                    if (document.getElementById(\"46928cae-0935-4583-a575-dc4f1219380a\")) {                    Plotly.newPlot(                        \"46928cae-0935-4583-a575-dc4f1219380a\",                        [{\"alignmentgroup\":\"True\",\"bingroup\":\"x\",\"histfunc\":\"sum\",\"hovertemplate\":\"sex=Female<br>total_bill=%{x}<br>sum of tip=%{y}<extra></extra>\",\"legendgroup\":\"Female\",\"marker\":{\"color\":\"#636efa\",\"pattern\":{\"shape\":\"\"}},\"name\":\"Female\",\"offsetgroup\":\"Female\",\"orientation\":\"v\",\"showlegend\":true,\"type\":\"histogram\",\"x\":[16.99,24.59,35.26,14.83,10.33,16.97,20.29,15.77,19.65,15.06,20.69,16.93,10.29,34.81,26.41,16.45,3.07,17.07,26.86,25.28,14.73,10.07,34.83,5.75,16.32,22.75,11.35,15.38,44.3,22.42,20.92,14.31,7.25,25.71,17.31,10.65,12.43,24.08,13.42,12.48,29.8,14.52,11.38,20.27,11.17,12.26,18.26,8.51,10.33,14.15,13.16,17.47,27.05,16.43,8.35,18.64,11.87,29.85,25.0,13.39,16.21,17.51,10.59,10.63,9.6,20.9,18.15,19.81,43.11,13.0,12.74,13.0,16.4,16.47,12.76,13.27,28.17,12.9,30.14,13.42,15.98,16.27,10.09,22.12,35.83,27.18,18.78],\"xaxis\":\"x\",\"y\":[1.01,3.61,5.0,3.02,1.67,3.5,2.75,2.23,3.0,3.0,2.45,3.07,2.6,5.2,1.5,2.47,1.0,3.0,3.14,5.0,2.2,1.83,5.17,1.0,4.3,3.25,2.5,3.0,2.5,3.48,4.08,4.0,1.0,4.0,3.5,1.5,1.8,2.92,1.68,2.52,4.2,2.0,2.0,2.83,1.5,2.0,3.25,1.25,2.0,2.0,2.75,3.5,5.0,2.3,1.5,1.36,1.63,5.14,3.75,2.61,2.0,3.0,1.61,2.0,4.0,3.5,3.5,4.19,5.0,2.0,2.01,2.0,2.5,3.23,2.23,2.5,6.5,1.1,3.09,3.48,3.0,2.5,2.0,2.88,4.67,2.0,3.0],\"yaxis\":\"y\"},{\"alignmentgroup\":\"True\",\"boxpoints\":\"all\",\"customdata\":[[\"Female\",\"No\",\"Sun\",\"Dinner\",2],[\"Female\",\"No\",\"Sun\",\"Dinner\",4],[\"Female\",\"No\",\"Sun\",\"Dinner\",4],[\"Female\",\"No\",\"Sun\",\"Dinner\",2],[\"Female\",\"No\",\"Sun\",\"Dinner\",3],[\"Female\",\"No\",\"Sun\",\"Dinner\",3],[\"Female\",\"No\",\"Sat\",\"Dinner\",2],[\"Female\",\"No\",\"Sat\",\"Dinner\",2],[\"Female\",\"No\",\"Sat\",\"Dinner\",2],[\"Female\",\"No\",\"Sat\",\"Dinner\",2],[\"Female\",\"No\",\"Sat\",\"Dinner\",4],[\"Female\",\"No\",\"Sat\",\"Dinner\",3],[\"Female\",\"No\",\"Sun\",\"Dinner\",2],[\"Female\",\"No\",\"Sun\",\"Dinner\",4],[\"Female\",\"No\",\"Sat\",\"Dinner\",2],[\"Female\",\"No\",\"Sat\",\"Dinner\",2],[\"Female\",\"Yes\",\"Sat\",\"Dinner\",1],[\"Female\",\"No\",\"Sat\",\"Dinner\",3],[\"Female\",\"Yes\",\"Sat\",\"Dinner\",2],[\"Female\",\"Yes\",\"Sat\",\"Dinner\",2],[\"Female\",\"No\",\"Sat\",\"Dinner\",2],[\"Female\",\"No\",\"Thur\",\"Lunch\",1],[\"Female\",\"No\",\"Thur\",\"Lunch\",4],[\"Female\",\"Yes\",\"Fri\",\"Dinner\",2],[\"Female\",\"Yes\",\"Fri\",\"Dinner\",2],[\"Female\",\"No\",\"Fri\",\"Dinner\",2],[\"Female\",\"Yes\",\"Fri\",\"Dinner\",2],[\"Female\",\"Yes\",\"Fri\",\"Dinner\",2],[\"Female\",\"Yes\",\"Sat\",\"Dinner\",3],[\"Female\",\"Yes\",\"Sat\",\"Dinner\",2],[\"Female\",\"No\",\"Sat\",\"Dinner\",2],[\"Female\",\"Yes\",\"Sat\",\"Dinner\",2],[\"Female\",\"No\",\"Sat\",\"Dinner\",1],[\"Female\",\"No\",\"Sun\",\"Dinner\",3],[\"Female\",\"No\",\"Sun\",\"Dinner\",2],[\"Female\",\"No\",\"Thur\",\"Lunch\",2],[\"Female\",\"No\",\"Thur\",\"Lunch\",2],[\"Female\",\"No\",\"Thur\",\"Lunch\",4],[\"Female\",\"No\",\"Thur\",\"Lunch\",2],[\"Female\",\"No\",\"Thur\",\"Lunch\",2],[\"Female\",\"No\",\"Thur\",\"Lunch\",6],[\"Female\",\"No\",\"Thur\",\"Lunch\",2],[\"Female\",\"No\",\"Thur\",\"Lunch\",2],[\"Female\",\"No\",\"Thur\",\"Lunch\",2],[\"Female\",\"No\",\"Thur\",\"Lunch\",2],[\"Female\",\"No\",\"Thur\",\"Lunch\",2],[\"Female\",\"No\",\"Thur\",\"Lunch\",2],[\"Female\",\"No\",\"Thur\",\"Lunch\",2],[\"Female\",\"No\",\"Thur\",\"Lunch\",2],[\"Female\",\"No\",\"Thur\",\"Lunch\",2],[\"Female\",\"No\",\"Thur\",\"Lunch\",2],[\"Female\",\"No\",\"Thur\",\"Lunch\",2],[\"Female\",\"No\",\"Thur\",\"Lunch\",6],[\"Female\",\"No\",\"Thur\",\"Lunch\",2],[\"Female\",\"No\",\"Thur\",\"Lunch\",2],[\"Female\",\"No\",\"Thur\",\"Lunch\",3],[\"Female\",\"No\",\"Thur\",\"Lunch\",2],[\"Female\",\"No\",\"Sun\",\"Dinner\",5],[\"Female\",\"No\",\"Sun\",\"Dinner\",4],[\"Female\",\"No\",\"Sun\",\"Dinner\",2],[\"Female\",\"No\",\"Sun\",\"Dinner\",3],[\"Female\",\"Yes\",\"Sun\",\"Dinner\",2],[\"Female\",\"Yes\",\"Sat\",\"Dinner\",2],[\"Female\",\"Yes\",\"Sat\",\"Dinner\",2],[\"Female\",\"Yes\",\"Sun\",\"Dinner\",2],[\"Female\",\"Yes\",\"Sun\",\"Dinner\",3],[\"Female\",\"Yes\",\"Sun\",\"Dinner\",3],[\"Female\",\"Yes\",\"Thur\",\"Lunch\",2],[\"Female\",\"Yes\",\"Thur\",\"Lunch\",4],[\"Female\",\"Yes\",\"Thur\",\"Lunch\",2],[\"Female\",\"Yes\",\"Thur\",\"Lunch\",2],[\"Female\",\"Yes\",\"Thur\",\"Lunch\",2],[\"Female\",\"Yes\",\"Thur\",\"Lunch\",2],[\"Female\",\"Yes\",\"Thur\",\"Lunch\",3],[\"Female\",\"Yes\",\"Sat\",\"Dinner\",2],[\"Female\",\"Yes\",\"Sat\",\"Dinner\",2],[\"Female\",\"Yes\",\"Sat\",\"Dinner\",3],[\"Female\",\"Yes\",\"Sat\",\"Dinner\",2],[\"Female\",\"Yes\",\"Sat\",\"Dinner\",4],[\"Female\",\"Yes\",\"Fri\",\"Lunch\",2],[\"Female\",\"No\",\"Fri\",\"Lunch\",3],[\"Female\",\"Yes\",\"Fri\",\"Lunch\",2],[\"Female\",\"Yes\",\"Fri\",\"Lunch\",2],[\"Female\",\"Yes\",\"Sat\",\"Dinner\",2],[\"Female\",\"No\",\"Sat\",\"Dinner\",3],[\"Female\",\"Yes\",\"Sat\",\"Dinner\",2],[\"Female\",\"No\",\"Thur\",\"Dinner\",2]],\"fillcolor\":\"rgba(255,255,255,0)\",\"hoveron\":\"points\",\"hovertemplate\":\"sex=%{customdata[0]}<br>total_bill=%{x}<br>smoker=%{customdata[1]}<br>day=%{customdata[2]}<br>time=%{customdata[3]}<br>size=%{customdata[4]}<extra></extra>\",\"jitter\":0,\"legendgroup\":\"Female\",\"line\":{\"color\":\"rgba(255,255,255,0)\"},\"marker\":{\"color\":\"#636efa\",\"symbol\":\"line-ns-open\"},\"name\":\"Female\",\"offsetgroup\":\"Female\",\"showlegend\":false,\"type\":\"box\",\"x\":[16.99,24.59,35.26,14.83,10.33,16.97,20.29,15.77,19.65,15.06,20.69,16.93,10.29,34.81,26.41,16.45,3.07,17.07,26.86,25.28,14.73,10.07,34.83,5.75,16.32,22.75,11.35,15.38,44.3,22.42,20.92,14.31,7.25,25.71,17.31,10.65,12.43,24.08,13.42,12.48,29.8,14.52,11.38,20.27,11.17,12.26,18.26,8.51,10.33,14.15,13.16,17.47,27.05,16.43,8.35,18.64,11.87,29.85,25.0,13.39,16.21,17.51,10.59,10.63,9.6,20.9,18.15,19.81,43.11,13.0,12.74,13.0,16.4,16.47,12.76,13.27,28.17,12.9,30.14,13.42,15.98,16.27,10.09,22.12,35.83,27.18,18.78],\"xaxis\":\"x2\",\"yaxis\":\"y2\"},{\"alignmentgroup\":\"True\",\"bingroup\":\"x\",\"histfunc\":\"sum\",\"hovertemplate\":\"sex=Male<br>total_bill=%{x}<br>sum of tip=%{y}<extra></extra>\",\"legendgroup\":\"Male\",\"marker\":{\"color\":\"#EF553B\",\"pattern\":{\"shape\":\"\"}},\"name\":\"Male\",\"offsetgroup\":\"Male\",\"orientation\":\"v\",\"showlegend\":true,\"type\":\"histogram\",\"x\":[10.34,21.01,23.68,25.29,8.77,26.88,15.04,14.78,10.27,15.42,18.43,21.58,16.29,20.65,17.92,39.42,19.82,17.81,13.37,12.69,21.7,9.55,18.35,17.78,24.06,16.31,18.69,31.27,16.04,17.46,13.94,9.68,30.4,18.29,22.23,32.4,28.55,18.04,12.54,9.94,25.56,19.49,38.01,11.24,48.27,20.29,13.81,11.02,18.29,17.59,20.08,20.23,15.01,12.02,10.51,17.92,27.2,22.76,17.29,19.44,16.66,32.68,15.98,13.03,18.28,24.71,21.16,28.97,22.49,40.17,27.28,12.03,21.01,12.46,15.36,20.49,25.21,18.24,14.0,38.07,23.95,29.93,11.69,14.26,15.95,8.52,22.82,19.08,16.0,34.3,41.19,9.78,7.51,14.07,13.13,17.26,24.55,19.77,48.17,16.49,21.5,12.66,13.81,24.52,20.76,31.71,50.81,15.81,7.25,31.85,16.82,32.9,17.89,14.48,34.63,34.65,23.33,45.35,23.17,40.55,20.69,30.46,23.1,15.69,28.44,15.48,16.58,7.56,10.34,13.51,18.71,20.53,26.59,38.73,24.27,30.06,25.89,48.33,28.15,11.59,7.74,12.16,8.58,13.42,20.45,13.28,24.01,15.69,11.61,10.77,15.53,10.07,12.6,32.83,29.03,22.67,17.82],\"xaxis\":\"x\",\"y\":[1.66,3.5,3.31,4.71,2.0,3.12,1.96,3.23,1.71,1.57,3.0,3.92,3.71,3.35,4.08,7.58,3.18,2.34,2.0,2.0,4.3,1.45,2.5,3.27,3.6,2.0,2.31,5.0,2.24,2.54,3.06,1.32,5.6,3.0,5.0,6.0,2.05,3.0,2.5,1.56,4.34,3.51,3.0,1.76,6.73,3.21,2.0,1.98,3.76,2.64,3.15,2.01,2.09,1.97,1.25,3.08,4.0,3.0,2.71,3.0,3.4,5.0,2.03,2.0,4.0,5.85,3.0,3.0,3.5,4.73,4.0,1.5,3.0,1.5,1.64,4.06,4.29,3.76,3.0,4.0,2.55,5.07,2.31,2.5,2.0,1.48,2.18,1.5,2.0,6.7,5.0,1.73,2.0,2.5,2.0,2.74,2.0,2.0,5.0,2.0,3.5,2.5,2.0,3.48,2.24,4.5,10.0,3.16,5.15,3.18,4.0,3.11,2.0,2.0,3.55,3.68,5.65,3.5,6.5,3.0,5.0,2.0,4.0,1.5,2.56,2.02,4.0,1.44,2.0,2.0,4.0,4.0,3.41,3.0,2.03,2.0,5.16,9.0,3.0,1.5,1.44,2.2,1.92,1.58,3.0,2.72,2.0,3.0,3.39,1.47,3.0,1.25,1.0,1.17,5.92,2.0,1.75],\"yaxis\":\"y\"},{\"alignmentgroup\":\"True\",\"boxpoints\":\"all\",\"customdata\":[[\"Male\",\"No\",\"Sun\",\"Dinner\",3],[\"Male\",\"No\",\"Sun\",\"Dinner\",3],[\"Male\",\"No\",\"Sun\",\"Dinner\",2],[\"Male\",\"No\",\"Sun\",\"Dinner\",4],[\"Male\",\"No\",\"Sun\",\"Dinner\",2],[\"Male\",\"No\",\"Sun\",\"Dinner\",4],[\"Male\",\"No\",\"Sun\",\"Dinner\",2],[\"Male\",\"No\",\"Sun\",\"Dinner\",2],[\"Male\",\"No\",\"Sun\",\"Dinner\",2],[\"Male\",\"No\",\"Sun\",\"Dinner\",2],[\"Male\",\"No\",\"Sun\",\"Dinner\",4],[\"Male\",\"No\",\"Sun\",\"Dinner\",2],[\"Male\",\"No\",\"Sun\",\"Dinner\",3],[\"Male\",\"No\",\"Sat\",\"Dinner\",3],[\"Male\",\"No\",\"Sat\",\"Dinner\",2],[\"Male\",\"No\",\"Sat\",\"Dinner\",4],[\"Male\",\"No\",\"Sat\",\"Dinner\",2],[\"Male\",\"No\",\"Sat\",\"Dinner\",4],[\"Male\",\"No\",\"Sat\",\"Dinner\",2],[\"Male\",\"No\",\"Sat\",\"Dinner\",2],[\"Male\",\"No\",\"Sat\",\"Dinner\",2],[\"Male\",\"No\",\"Sat\",\"Dinner\",2],[\"Male\",\"No\",\"Sat\",\"Dinner\",4],[\"Male\",\"No\",\"Sat\",\"Dinner\",2],[\"Male\",\"No\",\"Sat\",\"Dinner\",3],[\"Male\",\"No\",\"Sat\",\"Dinner\",3],[\"Male\",\"No\",\"Sat\",\"Dinner\",3],[\"Male\",\"No\",\"Sat\",\"Dinner\",3],[\"Male\",\"No\",\"Sat\",\"Dinner\",3],[\"Male\",\"No\",\"Sun\",\"Dinner\",2],[\"Male\",\"No\",\"Sun\",\"Dinner\",2],[\"Male\",\"No\",\"Sun\",\"Dinner\",2],[\"Male\",\"No\",\"Sun\",\"Dinner\",4],[\"Male\",\"No\",\"Sun\",\"Dinner\",2],[\"Male\",\"No\",\"Sun\",\"Dinner\",2],[\"Male\",\"No\",\"Sun\",\"Dinner\",4],[\"Male\",\"No\",\"Sun\",\"Dinner\",3],[\"Male\",\"No\",\"Sun\",\"Dinner\",2],[\"Male\",\"No\",\"Sun\",\"Dinner\",2],[\"Male\",\"No\",\"Sun\",\"Dinner\",2],[\"Male\",\"No\",\"Sun\",\"Dinner\",4],[\"Male\",\"No\",\"Sun\",\"Dinner\",2],[\"Male\",\"Yes\",\"Sat\",\"Dinner\",4],[\"Male\",\"Yes\",\"Sat\",\"Dinner\",2],[\"Male\",\"No\",\"Sat\",\"Dinner\",4],[\"Male\",\"Yes\",\"Sat\",\"Dinner\",2],[\"Male\",\"Yes\",\"Sat\",\"Dinner\",2],[\"Male\",\"Yes\",\"Sat\",\"Dinner\",2],[\"Male\",\"Yes\",\"Sat\",\"Dinner\",4],[\"Male\",\"No\",\"Sat\",\"Dinner\",3],[\"Male\",\"No\",\"Sat\",\"Dinner\",3],[\"Male\",\"No\",\"Sat\",\"Dinner\",2],[\"Male\",\"Yes\",\"Sat\",\"Dinner\",2],[\"Male\",\"No\",\"Sat\",\"Dinner\",2],[\"Male\",\"No\",\"Sat\",\"Dinner\",2],[\"Male\",\"Yes\",\"Sat\",\"Dinner\",2],[\"Male\",\"No\",\"Thur\",\"Lunch\",4],[\"Male\",\"No\",\"Thur\",\"Lunch\",2],[\"Male\",\"No\",\"Thur\",\"Lunch\",2],[\"Male\",\"Yes\",\"Thur\",\"Lunch\",2],[\"Male\",\"No\",\"Thur\",\"Lunch\",2],[\"Male\",\"Yes\",\"Thur\",\"Lunch\",2],[\"Male\",\"No\",\"Thur\",\"Lunch\",2],[\"Male\",\"No\",\"Thur\",\"Lunch\",2],[\"Male\",\"No\",\"Thur\",\"Lunch\",2],[\"Male\",\"No\",\"Thur\",\"Lunch\",2],[\"Male\",\"No\",\"Thur\",\"Lunch\",2],[\"Male\",\"Yes\",\"Fri\",\"Dinner\",2],[\"Male\",\"No\",\"Fri\",\"Dinner\",2],[\"Male\",\"Yes\",\"Fri\",\"Dinner\",4],[\"Male\",\"Yes\",\"Fri\",\"Dinner\",2],[\"Male\",\"Yes\",\"Fri\",\"Dinner\",2],[\"Male\",\"Yes\",\"Fri\",\"Dinner\",2],[\"Male\",\"No\",\"Fri\",\"Dinner\",2],[\"Male\",\"Yes\",\"Sat\",\"Dinner\",2],[\"Male\",\"Yes\",\"Sat\",\"Dinner\",2],[\"Male\",\"Yes\",\"Sat\",\"Dinner\",2],[\"Male\",\"No\",\"Sat\",\"Dinner\",2],[\"Male\",\"No\",\"Sat\",\"Dinner\",2],[\"Male\",\"No\",\"Sun\",\"Dinner\",3],[\"Male\",\"No\",\"Sun\",\"Dinner\",2],[\"Male\",\"No\",\"Sun\",\"Dinner\",4],[\"Male\",\"No\",\"Thur\",\"Lunch\",2],[\"Male\",\"No\",\"Thur\",\"Lunch\",2],[\"Male\",\"No\",\"Thur\",\"Lunch\",2],[\"Male\",\"No\",\"Thur\",\"Lunch\",2],[\"Male\",\"No\",\"Thur\",\"Lunch\",3],[\"Male\",\"No\",\"Thur\",\"Lunch\",2],[\"Male\",\"Yes\",\"Thur\",\"Lunch\",2],[\"Male\",\"No\",\"Thur\",\"Lunch\",6],[\"Male\",\"No\",\"Thur\",\"Lunch\",5],[\"Male\",\"No\",\"Thur\",\"Lunch\",2],[\"Male\",\"No\",\"Thur\",\"Lunch\",2],[\"Male\",\"No\",\"Sun\",\"Dinner\",2],[\"Male\",\"No\",\"Sun\",\"Dinner\",2],[\"Male\",\"No\",\"Sun\",\"Dinner\",3],[\"Male\",\"No\",\"Sun\",\"Dinner\",4],[\"Male\",\"No\",\"Sun\",\"Dinner\",4],[\"Male\",\"No\",\"Sun\",\"Dinner\",6],[\"Male\",\"No\",\"Sun\",\"Dinner\",4],[\"Male\",\"No\",\"Sun\",\"Dinner\",4],[\"Male\",\"No\",\"Sun\",\"Dinner\",2],[\"Male\",\"No\",\"Sun\",\"Dinner\",2],[\"Male\",\"No\",\"Sun\",\"Dinner\",3],[\"Male\",\"No\",\"Sun\",\"Dinner\",2],[\"Male\",\"No\",\"Sun\",\"Dinner\",4],[\"Male\",\"Yes\",\"Sat\",\"Dinner\",3],[\"Male\",\"Yes\",\"Sat\",\"Dinner\",2],[\"Male\",\"Yes\",\"Sun\",\"Dinner\",2],[\"Male\",\"Yes\",\"Sun\",\"Dinner\",2],[\"Male\",\"Yes\",\"Sun\",\"Dinner\",2],[\"Male\",\"Yes\",\"Sun\",\"Dinner\",2],[\"Male\",\"Yes\",\"Sun\",\"Dinner\",2],[\"Male\",\"Yes\",\"Sun\",\"Dinner\",2],[\"Male\",\"Yes\",\"Sun\",\"Dinner\",2],[\"Male\",\"Yes\",\"Sun\",\"Dinner\",4],[\"Male\",\"Yes\",\"Sun\",\"Dinner\",2],[\"Male\",\"Yes\",\"Sun\",\"Dinner\",3],[\"Male\",\"Yes\",\"Sun\",\"Dinner\",4],[\"Male\",\"Yes\",\"Sun\",\"Dinner\",2],[\"Male\",\"No\",\"Sun\",\"Dinner\",5],[\"Male\",\"Yes\",\"Sun\",\"Dinner\",5],[\"Male\",\"Yes\",\"Sun\",\"Dinner\",3],[\"Male\",\"Yes\",\"Sun\",\"Dinner\",2],[\"Male\",\"Yes\",\"Thur\",\"Lunch\",2],[\"Male\",\"Yes\",\"Thur\",\"Lunch\",2],[\"Male\",\"Yes\",\"Thur\",\"Lunch\",2],[\"Male\",\"No\",\"Thur\",\"Lunch\",2],[\"Male\",\"Yes\",\"Thur\",\"Lunch\",2],[\"Male\",\"Yes\",\"Thur\",\"Lunch\",2],[\"Male\",\"Yes\",\"Thur\",\"Lunch\",3],[\"Male\",\"Yes\",\"Thur\",\"Lunch\",4],[\"Male\",\"Yes\",\"Sat\",\"Dinner\",3],[\"Male\",\"Yes\",\"Sat\",\"Dinner\",4],[\"Male\",\"Yes\",\"Sat\",\"Dinner\",2],[\"Male\",\"Yes\",\"Sat\",\"Dinner\",3],[\"Male\",\"Yes\",\"Sat\",\"Dinner\",4],[\"Male\",\"No\",\"Sat\",\"Dinner\",4],[\"Male\",\"Yes\",\"Sat\",\"Dinner\",5],[\"Male\",\"Yes\",\"Sat\",\"Dinner\",2],[\"Male\",\"Yes\",\"Sat\",\"Dinner\",2],[\"Male\",\"Yes\",\"Fri\",\"Lunch\",2],[\"Male\",\"Yes\",\"Fri\",\"Lunch\",1],[\"Male\",\"Yes\",\"Fri\",\"Lunch\",2],[\"Male\",\"No\",\"Sat\",\"Dinner\",4],[\"Male\",\"No\",\"Sat\",\"Dinner\",2],[\"Male\",\"Yes\",\"Sat\",\"Dinner\",4],[\"Male\",\"Yes\",\"Sat\",\"Dinner\",3],[\"Male\",\"No\",\"Sat\",\"Dinner\",2],[\"Male\",\"No\",\"Sat\",\"Dinner\",2],[\"Male\",\"Yes\",\"Sat\",\"Dinner\",2],[\"Male\",\"No\",\"Sat\",\"Dinner\",2],[\"Male\",\"Yes\",\"Sat\",\"Dinner\",2],[\"Male\",\"Yes\",\"Sat\",\"Dinner\",2],[\"Male\",\"No\",\"Sat\",\"Dinner\",3],[\"Male\",\"Yes\",\"Sat\",\"Dinner\",2],[\"Male\",\"No\",\"Sat\",\"Dinner\",2]],\"fillcolor\":\"rgba(255,255,255,0)\",\"hoveron\":\"points\",\"hovertemplate\":\"sex=%{customdata[0]}<br>total_bill=%{x}<br>smoker=%{customdata[1]}<br>day=%{customdata[2]}<br>time=%{customdata[3]}<br>size=%{customdata[4]}<extra></extra>\",\"jitter\":0,\"legendgroup\":\"Male\",\"line\":{\"color\":\"rgba(255,255,255,0)\"},\"marker\":{\"color\":\"#EF553B\",\"symbol\":\"line-ns-open\"},\"name\":\"Male\",\"offsetgroup\":\"Male\",\"showlegend\":false,\"type\":\"box\",\"x\":[10.34,21.01,23.68,25.29,8.77,26.88,15.04,14.78,10.27,15.42,18.43,21.58,16.29,20.65,17.92,39.42,19.82,17.81,13.37,12.69,21.7,9.55,18.35,17.78,24.06,16.31,18.69,31.27,16.04,17.46,13.94,9.68,30.4,18.29,22.23,32.4,28.55,18.04,12.54,9.94,25.56,19.49,38.01,11.24,48.27,20.29,13.81,11.02,18.29,17.59,20.08,20.23,15.01,12.02,10.51,17.92,27.2,22.76,17.29,19.44,16.66,32.68,15.98,13.03,18.28,24.71,21.16,28.97,22.49,40.17,27.28,12.03,21.01,12.46,15.36,20.49,25.21,18.24,14.0,38.07,23.95,29.93,11.69,14.26,15.95,8.52,22.82,19.08,16.0,34.3,41.19,9.78,7.51,14.07,13.13,17.26,24.55,19.77,48.17,16.49,21.5,12.66,13.81,24.52,20.76,31.71,50.81,15.81,7.25,31.85,16.82,32.9,17.89,14.48,34.63,34.65,23.33,45.35,23.17,40.55,20.69,30.46,23.1,15.69,28.44,15.48,16.58,7.56,10.34,13.51,18.71,20.53,26.59,38.73,24.27,30.06,25.89,48.33,28.15,11.59,7.74,12.16,8.58,13.42,20.45,13.28,24.01,15.69,11.61,10.77,15.53,10.07,12.6,32.83,29.03,22.67,17.82],\"xaxis\":\"x2\",\"yaxis\":\"y2\"}],                        {\"barmode\":\"relative\",\"legend\":{\"title\":{\"text\":\"sex\"},\"tracegroupgap\":0},\"margin\":{\"t\":60},\"template\":{\"data\":{\"bar\":[{\"error_x\":{\"color\":\"#2a3f5f\"},\"error_y\":{\"color\":\"#2a3f5f\"},\"marker\":{\"line\":{\"color\":\"#E5ECF6\",\"width\":0.5},\"pattern\":{\"fillmode\":\"overlay\",\"size\":10,\"solidity\":0.2}},\"type\":\"bar\"}],\"barpolar\":[{\"marker\":{\"line\":{\"color\":\"#E5ECF6\",\"width\":0.5},\"pattern\":{\"fillmode\":\"overlay\",\"size\":10,\"solidity\":0.2}},\"type\":\"barpolar\"}],\"carpet\":[{\"aaxis\":{\"endlinecolor\":\"#2a3f5f\",\"gridcolor\":\"white\",\"linecolor\":\"white\",\"minorgridcolor\":\"white\",\"startlinecolor\":\"#2a3f5f\"},\"baxis\":{\"endlinecolor\":\"#2a3f5f\",\"gridcolor\":\"white\",\"linecolor\":\"white\",\"minorgridcolor\":\"white\",\"startlinecolor\":\"#2a3f5f\"},\"type\":\"carpet\"}],\"choropleth\":[{\"colorbar\":{\"outlinewidth\":0,\"ticks\":\"\"},\"type\":\"choropleth\"}],\"contour\":[{\"colorbar\":{\"outlinewidth\":0,\"ticks\":\"\"},\"colorscale\":[[0.0,\"#0d0887\"],[0.1111111111111111,\"#46039f\"],[0.2222222222222222,\"#7201a8\"],[0.3333333333333333,\"#9c179e\"],[0.4444444444444444,\"#bd3786\"],[0.5555555555555556,\"#d8576b\"],[0.6666666666666666,\"#ed7953\"],[0.7777777777777778,\"#fb9f3a\"],[0.8888888888888888,\"#fdca26\"],[1.0,\"#f0f921\"]],\"type\":\"contour\"}],\"contourcarpet\":[{\"colorbar\":{\"outlinewidth\":0,\"ticks\":\"\"},\"type\":\"contourcarpet\"}],\"heatmap\":[{\"colorbar\":{\"outlinewidth\":0,\"ticks\":\"\"},\"colorscale\":[[0.0,\"#0d0887\"],[0.1111111111111111,\"#46039f\"],[0.2222222222222222,\"#7201a8\"],[0.3333333333333333,\"#9c179e\"],[0.4444444444444444,\"#bd3786\"],[0.5555555555555556,\"#d8576b\"],[0.6666666666666666,\"#ed7953\"],[0.7777777777777778,\"#fb9f3a\"],[0.8888888888888888,\"#fdca26\"],[1.0,\"#f0f921\"]],\"type\":\"heatmap\"}],\"heatmapgl\":[{\"colorbar\":{\"outlinewidth\":0,\"ticks\":\"\"},\"colorscale\":[[0.0,\"#0d0887\"],[0.1111111111111111,\"#46039f\"],[0.2222222222222222,\"#7201a8\"],[0.3333333333333333,\"#9c179e\"],[0.4444444444444444,\"#bd3786\"],[0.5555555555555556,\"#d8576b\"],[0.6666666666666666,\"#ed7953\"],[0.7777777777777778,\"#fb9f3a\"],[0.8888888888888888,\"#fdca26\"],[1.0,\"#f0f921\"]],\"type\":\"heatmapgl\"}],\"histogram\":[{\"marker\":{\"pattern\":{\"fillmode\":\"overlay\",\"size\":10,\"solidity\":0.2}},\"type\":\"histogram\"}],\"histogram2d\":[{\"colorbar\":{\"outlinewidth\":0,\"ticks\":\"\"},\"colorscale\":[[0.0,\"#0d0887\"],[0.1111111111111111,\"#46039f\"],[0.2222222222222222,\"#7201a8\"],[0.3333333333333333,\"#9c179e\"],[0.4444444444444444,\"#bd3786\"],[0.5555555555555556,\"#d8576b\"],[0.6666666666666666,\"#ed7953\"],[0.7777777777777778,\"#fb9f3a\"],[0.8888888888888888,\"#fdca26\"],[1.0,\"#f0f921\"]],\"type\":\"histogram2d\"}],\"histogram2dcontour\":[{\"colorbar\":{\"outlinewidth\":0,\"ticks\":\"\"},\"colorscale\":[[0.0,\"#0d0887\"],[0.1111111111111111,\"#46039f\"],[0.2222222222222222,\"#7201a8\"],[0.3333333333333333,\"#9c179e\"],[0.4444444444444444,\"#bd3786\"],[0.5555555555555556,\"#d8576b\"],[0.6666666666666666,\"#ed7953\"],[0.7777777777777778,\"#fb9f3a\"],[0.8888888888888888,\"#fdca26\"],[1.0,\"#f0f921\"]],\"type\":\"histogram2dcontour\"}],\"mesh3d\":[{\"colorbar\":{\"outlinewidth\":0,\"ticks\":\"\"},\"type\":\"mesh3d\"}],\"parcoords\":[{\"line\":{\"colorbar\":{\"outlinewidth\":0,\"ticks\":\"\"}},\"type\":\"parcoords\"}],\"pie\":[{\"automargin\":true,\"type\":\"pie\"}],\"scatter\":[{\"marker\":{\"colorbar\":{\"outlinewidth\":0,\"ticks\":\"\"}},\"type\":\"scatter\"}],\"scatter3d\":[{\"line\":{\"colorbar\":{\"outlinewidth\":0,\"ticks\":\"\"}},\"marker\":{\"colorbar\":{\"outlinewidth\":0,\"ticks\":\"\"}},\"type\":\"scatter3d\"}],\"scattercarpet\":[{\"marker\":{\"colorbar\":{\"outlinewidth\":0,\"ticks\":\"\"}},\"type\":\"scattercarpet\"}],\"scattergeo\":[{\"marker\":{\"colorbar\":{\"outlinewidth\":0,\"ticks\":\"\"}},\"type\":\"scattergeo\"}],\"scattergl\":[{\"marker\":{\"colorbar\":{\"outlinewidth\":0,\"ticks\":\"\"}},\"type\":\"scattergl\"}],\"scattermapbox\":[{\"marker\":{\"colorbar\":{\"outlinewidth\":0,\"ticks\":\"\"}},\"type\":\"scattermapbox\"}],\"scatterpolar\":[{\"marker\":{\"colorbar\":{\"outlinewidth\":0,\"ticks\":\"\"}},\"type\":\"scatterpolar\"}],\"scatterpolargl\":[{\"marker\":{\"colorbar\":{\"outlinewidth\":0,\"ticks\":\"\"}},\"type\":\"scatterpolargl\"}],\"scatterternary\":[{\"marker\":{\"colorbar\":{\"outlinewidth\":0,\"ticks\":\"\"}},\"type\":\"scatterternary\"}],\"surface\":[{\"colorbar\":{\"outlinewidth\":0,\"ticks\":\"\"},\"colorscale\":[[0.0,\"#0d0887\"],[0.1111111111111111,\"#46039f\"],[0.2222222222222222,\"#7201a8\"],[0.3333333333333333,\"#9c179e\"],[0.4444444444444444,\"#bd3786\"],[0.5555555555555556,\"#d8576b\"],[0.6666666666666666,\"#ed7953\"],[0.7777777777777778,\"#fb9f3a\"],[0.8888888888888888,\"#fdca26\"],[1.0,\"#f0f921\"]],\"type\":\"surface\"}],\"table\":[{\"cells\":{\"fill\":{\"color\":\"#EBF0F8\"},\"line\":{\"color\":\"white\"}},\"header\":{\"fill\":{\"color\":\"#C8D4E3\"},\"line\":{\"color\":\"white\"}},\"type\":\"table\"}]},\"layout\":{\"annotationdefaults\":{\"arrowcolor\":\"#2a3f5f\",\"arrowhead\":0,\"arrowwidth\":1},\"autotypenumbers\":\"strict\",\"coloraxis\":{\"colorbar\":{\"outlinewidth\":0,\"ticks\":\"\"}},\"colorscale\":{\"diverging\":[[0,\"#8e0152\"],[0.1,\"#c51b7d\"],[0.2,\"#de77ae\"],[0.3,\"#f1b6da\"],[0.4,\"#fde0ef\"],[0.5,\"#f7f7f7\"],[0.6,\"#e6f5d0\"],[0.7,\"#b8e186\"],[0.8,\"#7fbc41\"],[0.9,\"#4d9221\"],[1,\"#276419\"]],\"sequential\":[[0.0,\"#0d0887\"],[0.1111111111111111,\"#46039f\"],[0.2222222222222222,\"#7201a8\"],[0.3333333333333333,\"#9c179e\"],[0.4444444444444444,\"#bd3786\"],[0.5555555555555556,\"#d8576b\"],[0.6666666666666666,\"#ed7953\"],[0.7777777777777778,\"#fb9f3a\"],[0.8888888888888888,\"#fdca26\"],[1.0,\"#f0f921\"]],\"sequentialminus\":[[0.0,\"#0d0887\"],[0.1111111111111111,\"#46039f\"],[0.2222222222222222,\"#7201a8\"],[0.3333333333333333,\"#9c179e\"],[0.4444444444444444,\"#bd3786\"],[0.5555555555555556,\"#d8576b\"],[0.6666666666666666,\"#ed7953\"],[0.7777777777777778,\"#fb9f3a\"],[0.8888888888888888,\"#fdca26\"],[1.0,\"#f0f921\"]]},\"colorway\":[\"#636efa\",\"#EF553B\",\"#00cc96\",\"#ab63fa\",\"#FFA15A\",\"#19d3f3\",\"#FF6692\",\"#B6E880\",\"#FF97FF\",\"#FECB52\"],\"font\":{\"color\":\"#2a3f5f\"},\"geo\":{\"bgcolor\":\"white\",\"lakecolor\":\"white\",\"landcolor\":\"#E5ECF6\",\"showlakes\":true,\"showland\":true,\"subunitcolor\":\"white\"},\"hoverlabel\":{\"align\":\"left\"},\"hovermode\":\"closest\",\"mapbox\":{\"style\":\"light\"},\"paper_bgcolor\":\"white\",\"plot_bgcolor\":\"#E5ECF6\",\"polar\":{\"angularaxis\":{\"gridcolor\":\"white\",\"linecolor\":\"white\",\"ticks\":\"\"},\"bgcolor\":\"#E5ECF6\",\"radialaxis\":{\"gridcolor\":\"white\",\"linecolor\":\"white\",\"ticks\":\"\"}},\"scene\":{\"xaxis\":{\"backgroundcolor\":\"#E5ECF6\",\"gridcolor\":\"white\",\"gridwidth\":2,\"linecolor\":\"white\",\"showbackground\":true,\"ticks\":\"\",\"zerolinecolor\":\"white\"},\"yaxis\":{\"backgroundcolor\":\"#E5ECF6\",\"gridcolor\":\"white\",\"gridwidth\":2,\"linecolor\":\"white\",\"showbackground\":true,\"ticks\":\"\",\"zerolinecolor\":\"white\"},\"zaxis\":{\"backgroundcolor\":\"#E5ECF6\",\"gridcolor\":\"white\",\"gridwidth\":2,\"linecolor\":\"white\",\"showbackground\":true,\"ticks\":\"\",\"zerolinecolor\":\"white\"}},\"shapedefaults\":{\"line\":{\"color\":\"#2a3f5f\"}},\"ternary\":{\"aaxis\":{\"gridcolor\":\"white\",\"linecolor\":\"white\",\"ticks\":\"\"},\"baxis\":{\"gridcolor\":\"white\",\"linecolor\":\"white\",\"ticks\":\"\"},\"bgcolor\":\"#E5ECF6\",\"caxis\":{\"gridcolor\":\"white\",\"linecolor\":\"white\",\"ticks\":\"\"}},\"title\":{\"x\":0.05},\"xaxis\":{\"automargin\":true,\"gridcolor\":\"white\",\"linecolor\":\"white\",\"ticks\":\"\",\"title\":{\"standoff\":15},\"zerolinecolor\":\"white\",\"zerolinewidth\":2},\"yaxis\":{\"automargin\":true,\"gridcolor\":\"white\",\"linecolor\":\"white\",\"ticks\":\"\",\"title\":{\"standoff\":15},\"zerolinecolor\":\"white\",\"zerolinewidth\":2}}},\"xaxis\":{\"anchor\":\"y\",\"domain\":[0.0,1.0],\"title\":{\"text\":\"total_bill\"}},\"xaxis2\":{\"anchor\":\"y2\",\"domain\":[0.0,1.0],\"matches\":\"x\",\"showgrid\":true,\"showticklabels\":false},\"yaxis\":{\"anchor\":\"x\",\"domain\":[0.0,0.7326],\"title\":{\"text\":\"sum of tip\"}},\"yaxis2\":{\"anchor\":\"x2\",\"domain\":[0.7426,1.0],\"matches\":\"y2\",\"showgrid\":false,\"showline\":false,\"showticklabels\":false,\"ticks\":\"\"}},                        {\"responsive\": true}                    ).then(function(){\n",
       "                            \n",
       "var gd = document.getElementById('46928cae-0935-4583-a575-dc4f1219380a');\n",
       "var x = new MutationObserver(function (mutations, observer) {{\n",
       "        var display = window.getComputedStyle(gd).display;\n",
       "        if (!display || display === 'none') {{\n",
       "            console.log([gd, 'removed!']);\n",
       "            Plotly.purge(gd);\n",
       "            observer.disconnect();\n",
       "        }}\n",
       "}});\n",
       "\n",
       "// Listen for the removal of the full notebook cells\n",
       "var notebookContainer = gd.closest('#notebook-container');\n",
       "if (notebookContainer) {{\n",
       "    x.observe(notebookContainer, {childList: true});\n",
       "}}\n",
       "\n",
       "// Listen for the clearing of the current output cell\n",
       "var outputEl = gd.closest('.output');\n",
       "if (outputEl) {{\n",
       "    x.observe(outputEl, {childList: true});\n",
       "}}\n",
       "\n",
       "                        })                };                });            </script>        </div>"
      ]
     },
     "metadata": {},
     "output_type": "display_data"
    }
   ],
   "source": [
    "import plotly.express as px\n",
    "df = px.data.tips()\n",
    "fig = px.histogram(df, x=\"total_bill\", y=\"tip\", color=\"sex\", marginal=\"rug\",\n",
    "                    hover_data=df.columns)\n",
    "fig.show()"
   ]
  },
  {
   "cell_type": "code",
   "execution_count": null,
   "metadata": {},
   "outputs": [],
   "source": []
  }
 ],
 "metadata": {
  "kernelspec": {
   "display_name": "",
   "name": ""
  },
  "language_info": {
   "name": ""
  }
 },
 "nbformat": 4,
 "nbformat_minor": 4
}
